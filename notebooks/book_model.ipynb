{
 "cells": [
  {
   "cell_type": "code",
   "execution_count": 1,
   "id": "studied-portable",
   "metadata": {},
   "outputs": [],
   "source": [
    "import numpy as np\n",
    "import pandas as pd\n",
    "import spacy \n",
    "import nltk\n",
    "import sklearn"
   ]
  },
  {
   "cell_type": "code",
   "execution_count": 2,
   "id": "60eb8dca",
   "metadata": {},
   "outputs": [],
   "source": [
    "nlp = spacy.load('en_core_web_lg')"
   ]
  },
  {
   "cell_type": "code",
   "execution_count": 3,
   "id": "animal-concept",
   "metadata": {},
   "outputs": [],
   "source": [
    "book_list = pd.read_pickle('../data/scary_books.pkl')"
   ]
  },
  {
   "cell_type": "code",
   "execution_count": 4,
   "id": "prescribed-greenhouse",
   "metadata": {},
   "outputs": [
    {
     "name": "stdout",
     "output_type": "stream",
     "text": [
      "<class 'pandas.core.frame.DataFrame'>\n",
      "RangeIndex: 2063 entries, 0 to 2062\n",
      "Data columns (total 6 columns):\n",
      " #   Column            Non-Null Count  Dtype  \n",
      "---  ------            --------------  -----  \n",
      " 0   title             2063 non-null   object \n",
      " 1   author            2063 non-null   object \n",
      " 2   description       2063 non-null   object \n",
      " 3   publisher         1766 non-null   object \n",
      " 4   customer_reviews  2042 non-null   float64\n",
      " 5   stars             2042 non-null   float64\n",
      "dtypes: float64(2), object(4)\n",
      "memory usage: 96.8+ KB\n"
     ]
    }
   ],
   "source": [
    "book_list.info()"
   ]
  },
  {
   "cell_type": "code",
   "execution_count": 5,
   "id": "moderate-gibson",
   "metadata": {},
   "outputs": [
    {
     "data": {
      "text/plain": [
       "title                 0\n",
       "author                0\n",
       "description           0\n",
       "publisher           297\n",
       "customer_reviews     21\n",
       "stars                21\n",
       "dtype: int64"
      ]
     },
     "execution_count": 5,
     "metadata": {},
     "output_type": "execute_result"
    }
   ],
   "source": [
    "\n",
    "book_list.isnull().sum()"
   ]
  },
  {
   "cell_type": "code",
   "execution_count": 6,
   "id": "generous-cowboy",
   "metadata": {},
   "outputs": [],
   "source": [
    "book_list['stars']=book_list['stars'].fillna(book_list['stars'].mean())"
   ]
  },
  {
   "cell_type": "code",
   "execution_count": 7,
   "id": "major-nebraska",
   "metadata": {},
   "outputs": [],
   "source": [
    "book_list['customer_reviews']=book_list['customer_reviews'].fillna(0)"
   ]
  },
  {
   "cell_type": "code",
   "execution_count": 8,
   "id": "dirty-sender",
   "metadata": {},
   "outputs": [],
   "source": [
    "book_list['publisher']=book_list['publisher'].fillna('Self')"
   ]
  },
  {
   "cell_type": "code",
   "execution_count": 9,
   "id": "under-board",
   "metadata": {},
   "outputs": [
    {
     "data": {
      "text/plain": [
       "title               0\n",
       "author              0\n",
       "description         0\n",
       "publisher           0\n",
       "customer_reviews    0\n",
       "stars               0\n",
       "dtype: int64"
      ]
     },
     "execution_count": 9,
     "metadata": {},
     "output_type": "execute_result"
    }
   ],
   "source": [
    "book_list.isnull().sum()"
   ]
  },
  {
   "cell_type": "code",
   "execution_count": 10,
   "id": "angry-recall",
   "metadata": {},
   "outputs": [],
   "source": [
    "book_list[\"id\"] = book_list.index + 1"
   ]
  },
  {
   "cell_type": "code",
   "execution_count": 11,
   "id": "rocky-maine",
   "metadata": {},
   "outputs": [
    {
     "data": {
      "text/html": [
       "<div>\n",
       "<style scoped>\n",
       "    .dataframe tbody tr th:only-of-type {\n",
       "        vertical-align: middle;\n",
       "    }\n",
       "\n",
       "    .dataframe tbody tr th {\n",
       "        vertical-align: top;\n",
       "    }\n",
       "\n",
       "    .dataframe thead th {\n",
       "        text-align: right;\n",
       "    }\n",
       "</style>\n",
       "<table border=\"1\" class=\"dataframe\">\n",
       "  <thead>\n",
       "    <tr style=\"text-align: right;\">\n",
       "      <th></th>\n",
       "      <th>title</th>\n",
       "      <th>author</th>\n",
       "      <th>description</th>\n",
       "      <th>publisher</th>\n",
       "      <th>customer_reviews</th>\n",
       "      <th>stars</th>\n",
       "      <th>id</th>\n",
       "    </tr>\n",
       "  </thead>\n",
       "  <tbody>\n",
       "    <tr>\n",
       "      <th>0</th>\n",
       "      <td>A Time to Kill: A Novel [Kindle Edition]</td>\n",
       "      <td>John Grisham</td>\n",
       "      <td>Don’t miss a sneak peek of Sycamore Row, John ...</td>\n",
       "      <td>Dell</td>\n",
       "      <td>918.0</td>\n",
       "      <td>4.5</td>\n",
       "      <td>1</td>\n",
       "    </tr>\n",
       "    <tr>\n",
       "      <th>1</th>\n",
       "      <td>Failure to Appear (J. P. Beaumont Novel) [Kind...</td>\n",
       "      <td>J. A. Jance</td>\n",
       "      <td>A shattering tale of tragedy and horror from t...</td>\n",
       "      <td>William Morrow; Reprint edition</td>\n",
       "      <td>34.0</td>\n",
       "      <td>4.8</td>\n",
       "      <td>2</td>\n",
       "    </tr>\n",
       "    <tr>\n",
       "      <th>2</th>\n",
       "      <td>Twelve Years a Slave [Kindle Edition]</td>\n",
       "      <td>Solomon Northup</td>\n",
       "      <td>First published in 1853, Twelve Years a Slave ...</td>\n",
       "      <td>HarperPerennial Classics</td>\n",
       "      <td>1374.0</td>\n",
       "      <td>4.6</td>\n",
       "      <td>3</td>\n",
       "    </tr>\n",
       "    <tr>\n",
       "      <th>3</th>\n",
       "      <td>Without Due Process (J. P. Beaumont Novel) [Ki...</td>\n",
       "      <td>J. A. Jance</td>\n",
       "      <td>Top ten New York Times bestselling author J.A....</td>\n",
       "      <td>William Morrow; Reissue edition</td>\n",
       "      <td>39.0</td>\n",
       "      <td>4.8</td>\n",
       "      <td>4</td>\n",
       "    </tr>\n",
       "    <tr>\n",
       "      <th>4</th>\n",
       "      <td>Devil's Claw: A Joanna Brady Mystery (Joanna B...</td>\n",
       "      <td>J. A. Jance</td>\n",
       "      <td>In the night-still canyons of the Arizona dese...</td>\n",
       "      <td>William Morrow; Reissue edition</td>\n",
       "      <td>63.0</td>\n",
       "      <td>4.5</td>\n",
       "      <td>5</td>\n",
       "    </tr>\n",
       "  </tbody>\n",
       "</table>\n",
       "</div>"
      ],
      "text/plain": [
       "                                               title           author  \\\n",
       "0           A Time to Kill: A Novel [Kindle Edition]     John Grisham   \n",
       "1  Failure to Appear (J. P. Beaumont Novel) [Kind...      J. A. Jance   \n",
       "2              Twelve Years a Slave [Kindle Edition]  Solomon Northup   \n",
       "3  Without Due Process (J. P. Beaumont Novel) [Ki...      J. A. Jance   \n",
       "4  Devil's Claw: A Joanna Brady Mystery (Joanna B...      J. A. Jance   \n",
       "\n",
       "                                         description  \\\n",
       "0  Don’t miss a sneak peek of Sycamore Row, John ...   \n",
       "1  A shattering tale of tragedy and horror from t...   \n",
       "2  First published in 1853, Twelve Years a Slave ...   \n",
       "3  Top ten New York Times bestselling author J.A....   \n",
       "4  In the night-still canyons of the Arizona dese...   \n",
       "\n",
       "                         publisher  customer_reviews  stars  id  \n",
       "0                             Dell             918.0    4.5   1  \n",
       "1  William Morrow; Reprint edition              34.0    4.8   2  \n",
       "2         HarperPerennial Classics            1374.0    4.6   3  \n",
       "3  William Morrow; Reissue edition              39.0    4.8   4  \n",
       "4  William Morrow; Reissue edition              63.0    4.5   5  "
      ]
     },
     "execution_count": 11,
     "metadata": {},
     "output_type": "execute_result"
    }
   ],
   "source": [
    "book_list.head()"
   ]
  },
  {
   "cell_type": "code",
   "execution_count": 12,
   "id": "relative-orleans",
   "metadata": {},
   "outputs": [
    {
     "data": {
      "text/html": [
       "<div>\n",
       "<style scoped>\n",
       "    .dataframe tbody tr th:only-of-type {\n",
       "        vertical-align: middle;\n",
       "    }\n",
       "\n",
       "    .dataframe tbody tr th {\n",
       "        vertical-align: top;\n",
       "    }\n",
       "\n",
       "    .dataframe thead th {\n",
       "        text-align: right;\n",
       "    }\n",
       "</style>\n",
       "<table border=\"1\" class=\"dataframe\">\n",
       "  <thead>\n",
       "    <tr style=\"text-align: right;\">\n",
       "      <th></th>\n",
       "      <th>title</th>\n",
       "      <th>author</th>\n",
       "      <th>description</th>\n",
       "      <th>publisher</th>\n",
       "      <th>customer_reviews</th>\n",
       "      <th>stars</th>\n",
       "      <th>id</th>\n",
       "      <th>text</th>\n",
       "    </tr>\n",
       "  </thead>\n",
       "  <tbody>\n",
       "    <tr>\n",
       "      <th>0</th>\n",
       "      <td>A Time to Kill: A Novel [Kindle Edition]</td>\n",
       "      <td>John Grisham</td>\n",
       "      <td>Don’t miss a sneak peek of Sycamore Row, John ...</td>\n",
       "      <td>Dell</td>\n",
       "      <td>918.0</td>\n",
       "      <td>4.5</td>\n",
       "      <td>1</td>\n",
       "      <td>A Time to Kill: A Novel [Kindle Edition] John ...</td>\n",
       "    </tr>\n",
       "    <tr>\n",
       "      <th>1</th>\n",
       "      <td>Failure to Appear (J. P. Beaumont Novel) [Kind...</td>\n",
       "      <td>J. A. Jance</td>\n",
       "      <td>A shattering tale of tragedy and horror from t...</td>\n",
       "      <td>William Morrow; Reprint edition</td>\n",
       "      <td>34.0</td>\n",
       "      <td>4.8</td>\n",
       "      <td>2</td>\n",
       "      <td>Failure to Appear (J. P. Beaumont Novel) [Kind...</td>\n",
       "    </tr>\n",
       "  </tbody>\n",
       "</table>\n",
       "</div>"
      ],
      "text/plain": [
       "                                               title        author  \\\n",
       "0           A Time to Kill: A Novel [Kindle Edition]  John Grisham   \n",
       "1  Failure to Appear (J. P. Beaumont Novel) [Kind...   J. A. Jance   \n",
       "\n",
       "                                         description  \\\n",
       "0  Don’t miss a sneak peek of Sycamore Row, John ...   \n",
       "1  A shattering tale of tragedy and horror from t...   \n",
       "\n",
       "                         publisher  customer_reviews  stars  id  \\\n",
       "0                             Dell             918.0    4.5   1   \n",
       "1  William Morrow; Reprint edition              34.0    4.8   2   \n",
       "\n",
       "                                                text  \n",
       "0  A Time to Kill: A Novel [Kindle Edition] John ...  \n",
       "1  Failure to Appear (J. P. Beaumont Novel) [Kind...  "
      ]
     },
     "execution_count": 12,
     "metadata": {},
     "output_type": "execute_result"
    }
   ],
   "source": [
    "book_list[\"text\"] = book_list[\"title\"].map(str) + \" \" + book_list[\"author\"] +\" \"+ book_list[\"description\"]+ \" \"+book_list['publisher']\n",
    "book_list.head(2)"
   ]
  },
  {
   "cell_type": "code",
   "execution_count": 13,
   "id": "entertaining-pollution",
   "metadata": {},
   "outputs": [],
   "source": [
    "book_list_df = book_list[['id', 'text', 'title']]"
   ]
  },
  {
   "cell_type": "code",
   "execution_count": 14,
   "id": "continuing-reality",
   "metadata": {},
   "outputs": [
    {
     "data": {
      "text/html": [
       "<div>\n",
       "<style scoped>\n",
       "    .dataframe tbody tr th:only-of-type {\n",
       "        vertical-align: middle;\n",
       "    }\n",
       "\n",
       "    .dataframe tbody tr th {\n",
       "        vertical-align: top;\n",
       "    }\n",
       "\n",
       "    .dataframe thead th {\n",
       "        text-align: right;\n",
       "    }\n",
       "</style>\n",
       "<table border=\"1\" class=\"dataframe\">\n",
       "  <thead>\n",
       "    <tr style=\"text-align: right;\">\n",
       "      <th></th>\n",
       "      <th>id</th>\n",
       "      <th>text</th>\n",
       "      <th>title</th>\n",
       "    </tr>\n",
       "  </thead>\n",
       "  <tbody>\n",
       "    <tr>\n",
       "      <th>0</th>\n",
       "      <td>1</td>\n",
       "      <td>A Time to Kill: A Novel [Kindle Edition] John ...</td>\n",
       "      <td>A Time to Kill: A Novel [Kindle Edition]</td>\n",
       "    </tr>\n",
       "    <tr>\n",
       "      <th>1</th>\n",
       "      <td>2</td>\n",
       "      <td>Failure to Appear (J. P. Beaumont Novel) [Kind...</td>\n",
       "      <td>Failure to Appear (J. P. Beaumont Novel) [Kind...</td>\n",
       "    </tr>\n",
       "    <tr>\n",
       "      <th>2</th>\n",
       "      <td>3</td>\n",
       "      <td>Twelve Years a Slave [Kindle Edition] Solomon ...</td>\n",
       "      <td>Twelve Years a Slave [Kindle Edition]</td>\n",
       "    </tr>\n",
       "    <tr>\n",
       "      <th>3</th>\n",
       "      <td>4</td>\n",
       "      <td>Without Due Process (J. P. Beaumont Novel) [Ki...</td>\n",
       "      <td>Without Due Process (J. P. Beaumont Novel) [Ki...</td>\n",
       "    </tr>\n",
       "    <tr>\n",
       "      <th>4</th>\n",
       "      <td>5</td>\n",
       "      <td>Devil's Claw: A Joanna Brady Mystery (Joanna B...</td>\n",
       "      <td>Devil's Claw: A Joanna Brady Mystery (Joanna B...</td>\n",
       "    </tr>\n",
       "  </tbody>\n",
       "</table>\n",
       "</div>"
      ],
      "text/plain": [
       "   id                                               text  \\\n",
       "0   1  A Time to Kill: A Novel [Kindle Edition] John ...   \n",
       "1   2  Failure to Appear (J. P. Beaumont Novel) [Kind...   \n",
       "2   3  Twelve Years a Slave [Kindle Edition] Solomon ...   \n",
       "3   4  Without Due Process (J. P. Beaumont Novel) [Ki...   \n",
       "4   5  Devil's Claw: A Joanna Brady Mystery (Joanna B...   \n",
       "\n",
       "                                               title  \n",
       "0           A Time to Kill: A Novel [Kindle Edition]  \n",
       "1  Failure to Appear (J. P. Beaumont Novel) [Kind...  \n",
       "2              Twelve Years a Slave [Kindle Edition]  \n",
       "3  Without Due Process (J. P. Beaumont Novel) [Ki...  \n",
       "4  Devil's Claw: A Joanna Brady Mystery (Joanna B...  "
      ]
     },
     "execution_count": 14,
     "metadata": {},
     "output_type": "execute_result"
    }
   ],
   "source": [
    "book_list_df.head()"
   ]
  },
  {
   "cell_type": "code",
   "execution_count": 15,
   "id": "dramatic-newark",
   "metadata": {},
   "outputs": [
    {
     "data": {
      "text/plain": [
       "(2063, 3)"
      ]
     },
     "execution_count": 15,
     "metadata": {},
     "output_type": "execute_result"
    }
   ],
   "source": [
    "book_list_df.shape"
   ]
  },
  {
   "cell_type": "code",
   "execution_count": 16,
   "id": "numeric-indonesia",
   "metadata": {},
   "outputs": [
    {
     "name": "stderr",
     "output_type": "stream",
     "text": [
      "[nltk_data] Downloading package punkt to\n",
      "[nltk_data]     /Users/audreymaldonado/nltk_data...\n",
      "[nltk_data]   Package punkt is already up-to-date!\n",
      "[nltk_data] Downloading package stopwords to\n",
      "[nltk_data]     /Users/audreymaldonado/nltk_data...\n",
      "[nltk_data]   Package stopwords is already up-to-date!\n",
      "[nltk_data] Downloading package wordnet to\n",
      "[nltk_data]     /Users/audreymaldonado/nltk_data...\n",
      "[nltk_data]   Package wordnet is already up-to-date!\n",
      "[nltk_data] Downloading package averaged_perceptron_tagger to\n",
      "[nltk_data]     /Users/audreymaldonado/nltk_data...\n",
      "[nltk_data]   Package averaged_perceptron_tagger is already up-to-\n",
      "[nltk_data]       date!\n"
     ]
    },
    {
     "data": {
      "text/plain": [
       "True"
      ]
     },
     "execution_count": 16,
     "metadata": {},
     "output_type": "execute_result"
    }
   ],
   "source": [
    "nltk.download('punkt')\n",
    "nltk.download('stopwords')\n",
    "nltk.download('wordnet')\n",
    "nltk.download('averaged_perceptron_tagger')"
   ]
  },
  {
   "cell_type": "code",
   "execution_count": 17,
   "id": "moving-dodge",
   "metadata": {},
   "outputs": [],
   "source": [
    "from nltk.corpus import stopwords\n",
    "import re\n",
    "import string\n",
    "from nltk.stem import WordNetLemmatizer\n",
    "from nltk import word_tokenize\n",
    "from nltk.corpus import stopwords\n",
    "stop = stopwords.words('english')\n",
    "stop_words_ = set(stopwords.words('english'))\n",
    "wn = WordNetLemmatizer()\n"
   ]
  },
  {
   "cell_type": "code",
   "execution_count": 18,
   "id": "fresh-mouse",
   "metadata": {},
   "outputs": [],
   "source": [
    "\n",
    "def black_txt(token):\n",
    "    return  token not in stop_words_ and token not in list(string.punctuation)  and len(token)>2   "
   ]
  },
  {
   "cell_type": "markdown",
   "id": "touched-recall",
   "metadata": {},
   "source": [
    "Remove stop Words, Remove non-alphanumeric characters, lemmatize columns, merge all columns in order to create a corpus of text for each book"
   ]
  },
  {
   "cell_type": "code",
   "execution_count": 19,
   "id": "cooked-resistance",
   "metadata": {},
   "outputs": [],
   "source": [
    "def clean_txt(text):\n",
    "    clean_text = []\n",
    "    clean_text2 = []\n",
    "    text = re.sub(\"'\", \"\",text)\n",
    "    text = re.sub(\"(\\\\d|\\\\W)+\",\" \",text)\n",
    "    text = text.replace(\"kindle\", \"\")\n",
    "    text = text.replace(\"edition\", \"\")\n",
    "    clean_text = [ wn.lemmatize(word, pos=\"v\") for word in word_tokenize(text.lower()) if black_txt(word)]\n",
    "    clean_text2 = [word for word in clean_text if black_txt(word)]\n",
    "    return \" \".join(clean_text2)"
   ]
  },
  {
   "cell_type": "code",
   "execution_count": 20,
   "id": "pretty-listening",
   "metadata": {},
   "outputs": [
    {
     "name": "stderr",
     "output_type": "stream",
     "text": [
      "<ipython-input-20-f10be6f7747f>:1: SettingWithCopyWarning: \n",
      "A value is trying to be set on a copy of a slice from a DataFrame.\n",
      "Try using .loc[row_indexer,col_indexer] = value instead\n",
      "\n",
      "See the caveats in the documentation: https://pandas.pydata.org/pandas-docs/stable/user_guide/indexing.html#returning-a-view-versus-a-copy\n",
      "  book_list_df['text'] = book_list_df['text'].apply(clean_txt)\n"
     ]
    }
   ],
   "source": [
    "book_list_df['text'] = book_list_df['text'].apply(clean_txt)"
   ]
  },
  {
   "cell_type": "code",
   "execution_count": 21,
   "id": "innovative-plymouth",
   "metadata": {
    "scrolled": true
   },
   "outputs": [
    {
     "data": {
      "text/html": [
       "<div>\n",
       "<style scoped>\n",
       "    .dataframe tbody tr th:only-of-type {\n",
       "        vertical-align: middle;\n",
       "    }\n",
       "\n",
       "    .dataframe tbody tr th {\n",
       "        vertical-align: top;\n",
       "    }\n",
       "\n",
       "    .dataframe thead th {\n",
       "        text-align: right;\n",
       "    }\n",
       "</style>\n",
       "<table border=\"1\" class=\"dataframe\">\n",
       "  <thead>\n",
       "    <tr style=\"text-align: right;\">\n",
       "      <th></th>\n",
       "      <th>id</th>\n",
       "      <th>text</th>\n",
       "      <th>title</th>\n",
       "    </tr>\n",
       "  </thead>\n",
       "  <tbody>\n",
       "    <tr>\n",
       "      <th>0</th>\n",
       "      <td>1</td>\n",
       "      <td>time kill novel kindle edition john grisham mi...</td>\n",
       "      <td>A Time to Kill: A Novel [Kindle Edition]</td>\n",
       "    </tr>\n",
       "    <tr>\n",
       "      <th>1</th>\n",
       "      <td>2</td>\n",
       "      <td>failure appear beaumont novel kindle edition j...</td>\n",
       "      <td>Failure to Appear (J. P. Beaumont Novel) [Kind...</td>\n",
       "    </tr>\n",
       "    <tr>\n",
       "      <th>2</th>\n",
       "      <td>3</td>\n",
       "      <td>twelve years slave kindle edition solomon nort...</td>\n",
       "      <td>Twelve Years a Slave [Kindle Edition]</td>\n",
       "    </tr>\n",
       "    <tr>\n",
       "      <th>3</th>\n",
       "      <td>4</td>\n",
       "      <td>without due process beaumont novel kindle edit...</td>\n",
       "      <td>Without Due Process (J. P. Beaumont Novel) [Ki...</td>\n",
       "    </tr>\n",
       "    <tr>\n",
       "      <th>4</th>\n",
       "      <td>5</td>\n",
       "      <td>devil claw joanna brady mystery joanna brady m...</td>\n",
       "      <td>Devil's Claw: A Joanna Brady Mystery (Joanna B...</td>\n",
       "    </tr>\n",
       "  </tbody>\n",
       "</table>\n",
       "</div>"
      ],
      "text/plain": [
       "   id                                               text  \\\n",
       "0   1  time kill novel kindle edition john grisham mi...   \n",
       "1   2  failure appear beaumont novel kindle edition j...   \n",
       "2   3  twelve years slave kindle edition solomon nort...   \n",
       "3   4  without due process beaumont novel kindle edit...   \n",
       "4   5  devil claw joanna brady mystery joanna brady m...   \n",
       "\n",
       "                                               title  \n",
       "0           A Time to Kill: A Novel [Kindle Edition]  \n",
       "1  Failure to Appear (J. P. Beaumont Novel) [Kind...  \n",
       "2              Twelve Years a Slave [Kindle Edition]  \n",
       "3  Without Due Process (J. P. Beaumont Novel) [Ki...  \n",
       "4  Devil's Claw: A Joanna Brady Mystery (Joanna B...  "
      ]
     },
     "execution_count": 21,
     "metadata": {},
     "output_type": "execute_result"
    }
   ],
   "source": [
    "book_list_df.head()"
   ]
  },
  {
   "cell_type": "markdown",
   "id": "literary-scoop",
   "metadata": {},
   "source": [
    "Speculative word bank, hand-built, with inspiration from the Word2Vec model I built in the previous capstone. "
   ]
  },
  {
   "cell_type": "code",
   "execution_count": 22,
   "id": "contained-morocco",
   "metadata": {},
   "outputs": [],
   "source": [
    "reader_choices = ['monster', 'lore', 'grave', 'animal', 'dread', 'haunted', 'claw', 'eerie', 'old', 'mystery', 'dark', 'fear', 'ghost', 'terror', 'blood', 'gore', 'death', 'danger', 'atmosphere', 'supernatural']"
   ]
  },
  {
   "cell_type": "code",
   "execution_count": 23,
   "id": "optical-vacation",
   "metadata": {},
   "outputs": [],
   "source": [
    "import random"
   ]
  },
  {
   "cell_type": "code",
   "execution_count": 52,
   "id": "ac75d72d",
   "metadata": {},
   "outputs": [],
   "source": [
    "\n",
    "sample_reader = random.sample(reader_choices, 3)"
   ]
  },
  {
   "cell_type": "code",
   "execution_count": 53,
   "id": "hispanic-companion",
   "metadata": {},
   "outputs": [],
   "source": [
    "sample_reader = ' '.join([str(elem) for elem in sample_reader])"
   ]
  },
  {
   "cell_type": "code",
   "execution_count": 54,
   "id": "blond-shark",
   "metadata": {},
   "outputs": [
    {
     "data": {
      "text/plain": [
       "'old blood dark'"
      ]
     },
     "execution_count": 54,
     "metadata": {},
     "output_type": "execute_result"
    }
   ],
   "source": [
    "sample_reader"
   ]
  },
  {
   "cell_type": "code",
   "execution_count": 55,
   "id": "weighted-means",
   "metadata": {},
   "outputs": [],
   "source": [
    "reader_number = 1"
   ]
  },
  {
   "cell_type": "markdown",
   "id": "hollywood-prior",
   "metadata": {},
   "source": [
    "Different from a collaborative filtering approach which builds a model from a user's past behaviors, a Content based approach utilizes a series of discrete characteristics of an item in order to recommend additional items with similar properties. My implementation could be improved by adding data collectino features that would eventually turn it in to a hybrid approach. "
   ]
  },
  {
   "cell_type": "code",
   "execution_count": 56,
   "id": "legal-tooth",
   "metadata": {},
   "outputs": [],
   "source": [
    "dict = {'user_id': [reader_number], 'selections': [sample_reader]}"
   ]
  },
  {
   "cell_type": "code",
   "execution_count": 57,
   "id": "synthetic-postage",
   "metadata": {},
   "outputs": [],
   "source": [
    "user_df = pd.DataFrame(dict)"
   ]
  },
  {
   "cell_type": "code",
   "execution_count": 58,
   "id": "lucky-immunology",
   "metadata": {},
   "outputs": [
    {
     "data": {
      "text/html": [
       "<div>\n",
       "<style scoped>\n",
       "    .dataframe tbody tr th:only-of-type {\n",
       "        vertical-align: middle;\n",
       "    }\n",
       "\n",
       "    .dataframe tbody tr th {\n",
       "        vertical-align: top;\n",
       "    }\n",
       "\n",
       "    .dataframe thead th {\n",
       "        text-align: right;\n",
       "    }\n",
       "</style>\n",
       "<table border=\"1\" class=\"dataframe\">\n",
       "  <thead>\n",
       "    <tr style=\"text-align: right;\">\n",
       "      <th></th>\n",
       "      <th>user_id</th>\n",
       "      <th>selections</th>\n",
       "    </tr>\n",
       "  </thead>\n",
       "  <tbody>\n",
       "    <tr>\n",
       "      <th>0</th>\n",
       "      <td>1</td>\n",
       "      <td>old blood dark</td>\n",
       "    </tr>\n",
       "  </tbody>\n",
       "</table>\n",
       "</div>"
      ],
      "text/plain": [
       "   user_id      selections\n",
       "0        1  old blood dark"
      ]
     },
     "execution_count": 58,
     "metadata": {},
     "output_type": "execute_result"
    }
   ],
   "source": [
    "user_df"
   ]
  },
  {
   "cell_type": "code",
   "execution_count": 59,
   "id": "catholic-samoa",
   "metadata": {},
   "outputs": [],
   "source": [
    "user_df['text'] = user_df['selections'].map(str).apply(clean_txt)"
   ]
  },
  {
   "cell_type": "code",
   "execution_count": 60,
   "id": "complete-thomas",
   "metadata": {},
   "outputs": [
    {
     "data": {
      "text/html": [
       "<div>\n",
       "<style scoped>\n",
       "    .dataframe tbody tr th:only-of-type {\n",
       "        vertical-align: middle;\n",
       "    }\n",
       "\n",
       "    .dataframe tbody tr th {\n",
       "        vertical-align: top;\n",
       "    }\n",
       "\n",
       "    .dataframe thead th {\n",
       "        text-align: right;\n",
       "    }\n",
       "</style>\n",
       "<table border=\"1\" class=\"dataframe\">\n",
       "  <thead>\n",
       "    <tr style=\"text-align: right;\">\n",
       "      <th></th>\n",
       "      <th>user_id</th>\n",
       "      <th>selections</th>\n",
       "      <th>text</th>\n",
       "    </tr>\n",
       "  </thead>\n",
       "  <tbody>\n",
       "    <tr>\n",
       "      <th>0</th>\n",
       "      <td>1</td>\n",
       "      <td>old blood dark</td>\n",
       "      <td>old blood dark</td>\n",
       "    </tr>\n",
       "  </tbody>\n",
       "</table>\n",
       "</div>"
      ],
      "text/plain": [
       "   user_id      selections            text\n",
       "0        1  old blood dark  old blood dark"
      ]
     },
     "execution_count": 60,
     "metadata": {},
     "output_type": "execute_result"
    }
   ],
   "source": [
    "user_df"
   ]
  },
  {
   "cell_type": "code",
   "execution_count": 61,
   "id": "charming-signal",
   "metadata": {},
   "outputs": [],
   "source": [
    "user_recc_df = user_df[['user_id', 'text']]"
   ]
  },
  {
   "cell_type": "code",
   "execution_count": 62,
   "id": "operational-madagascar",
   "metadata": {},
   "outputs": [
    {
     "data": {
      "text/html": [
       "<div>\n",
       "<style scoped>\n",
       "    .dataframe tbody tr th:only-of-type {\n",
       "        vertical-align: middle;\n",
       "    }\n",
       "\n",
       "    .dataframe tbody tr th {\n",
       "        vertical-align: top;\n",
       "    }\n",
       "\n",
       "    .dataframe thead th {\n",
       "        text-align: right;\n",
       "    }\n",
       "</style>\n",
       "<table border=\"1\" class=\"dataframe\">\n",
       "  <thead>\n",
       "    <tr style=\"text-align: right;\">\n",
       "      <th></th>\n",
       "      <th>user_id</th>\n",
       "      <th>text</th>\n",
       "    </tr>\n",
       "  </thead>\n",
       "  <tbody>\n",
       "    <tr>\n",
       "      <th>0</th>\n",
       "      <td>1</td>\n",
       "      <td>old blood dark</td>\n",
       "    </tr>\n",
       "  </tbody>\n",
       "</table>\n",
       "</div>"
      ],
      "text/plain": [
       "   user_id            text\n",
       "0        1  old blood dark"
      ]
     },
     "execution_count": 62,
     "metadata": {},
     "output_type": "execute_result"
    }
   ],
   "source": [
    "u = 1\n",
    "index = np.where(user_recc_df['user_id']==u)[0][0]\n",
    "user_q = user_recc_df.iloc[[index]]\n",
    "user_q"
   ]
  },
  {
   "cell_type": "code",
   "execution_count": 63,
   "id": "regular-korea",
   "metadata": {},
   "outputs": [
    {
     "data": {
      "text/plain": [
       "<2063x25213 sparse matrix of type '<class 'numpy.float64'>'\n",
       "\twith 242641 stored elements in Compressed Sparse Row format>"
      ]
     },
     "execution_count": 63,
     "metadata": {},
     "output_type": "execute_result"
    }
   ],
   "source": [
    "#initializing tfidf vectorizer\n",
    "from sklearn.feature_extraction.text import TfidfVectorizer\n",
    "tfidf_vectorizer = TfidfVectorizer()\n",
    "\n",
    "tfidf_bookid = tfidf_vectorizer.fit_transform((book_list_df['text'])) #fitting and transforming the vector\n",
    "tfidf_bookid"
   ]
  },
  {
   "cell_type": "markdown",
   "id": "ranging-dealing",
   "metadata": {},
   "source": [
    "Using TF-IDF"
   ]
  },
  {
   "cell_type": "code",
   "execution_count": 64,
   "id": "anonymous-ticket",
   "metadata": {},
   "outputs": [],
   "source": [
    "from sklearn.metrics.pairwise import cosine_similarity\n",
    "user_tfidf = tfidf_vectorizer.transform(user_q['text'])\n",
    "cos_similarity_tfidf = map(lambda x: cosine_similarity(user_tfidf, x),tfidf_bookid)"
   ]
  },
  {
   "cell_type": "code",
   "execution_count": 65,
   "id": "dressed-sentence",
   "metadata": {},
   "outputs": [],
   "source": [
    "output2 = list(cos_similarity_tfidf)"
   ]
  },
  {
   "cell_type": "code",
   "execution_count": 66,
   "id": "upset-miniature",
   "metadata": {},
   "outputs": [],
   "source": [
    "def get_recommendation(top, book_list_df, scores):\n",
    "  recommendation = pd.DataFrame(columns = ['title', 'score'])\n",
    "  count = 0\n",
    "  for i in top:\n",
    "      recommendation.at[count, 'user_id'] = u\n",
    "      recommendation.at[count, 'id'] = book_list_df['id'][i]\n",
    "      recommendation.at[count, 'title'] = book_list_df['title'][i]\n",
    "      recommendation.at[count, 'score'] =  scores[count]\n",
    "      count += 1\n",
    "  return recommendation"
   ]
  },
  {
   "cell_type": "code",
   "execution_count": 67,
   "id": "oriented-tiffany",
   "metadata": {},
   "outputs": [
    {
     "data": {
      "text/html": [
       "<div>\n",
       "<style scoped>\n",
       "    .dataframe tbody tr th:only-of-type {\n",
       "        vertical-align: middle;\n",
       "    }\n",
       "\n",
       "    .dataframe tbody tr th {\n",
       "        vertical-align: top;\n",
       "    }\n",
       "\n",
       "    .dataframe thead th {\n",
       "        text-align: right;\n",
       "    }\n",
       "</style>\n",
       "<table border=\"1\" class=\"dataframe\">\n",
       "  <thead>\n",
       "    <tr style=\"text-align: right;\">\n",
       "      <th></th>\n",
       "      <th>title</th>\n",
       "      <th>score</th>\n",
       "      <th>user_id</th>\n",
       "      <th>id</th>\n",
       "    </tr>\n",
       "  </thead>\n",
       "  <tbody>\n",
       "    <tr>\n",
       "      <th>0</th>\n",
       "      <td>PULSE [Kindle Edition]</td>\n",
       "      <td>0.199253</td>\n",
       "      <td>1.0</td>\n",
       "      <td>151.0</td>\n",
       "    </tr>\n",
       "    <tr>\n",
       "      <th>1</th>\n",
       "      <td>Dark Places: by Gillian Flynn -- Sidekick [Kin...</td>\n",
       "      <td>0.167221</td>\n",
       "      <td>1.0</td>\n",
       "      <td>1955.0</td>\n",
       "    </tr>\n",
       "    <tr>\n",
       "      <th>2</th>\n",
       "      <td>Anna Dressed in Blood (Anna Dressed in Blood S...</td>\n",
       "      <td>0.15792</td>\n",
       "      <td>1.0</td>\n",
       "      <td>2023.0</td>\n",
       "    </tr>\n",
       "    <tr>\n",
       "      <th>3</th>\n",
       "      <td>Life's Blood (Pulse Book 2) (PULSE Vampire Ser...</td>\n",
       "      <td>0.156698</td>\n",
       "      <td>1.0</td>\n",
       "      <td>358.0</td>\n",
       "    </tr>\n",
       "    <tr>\n",
       "      <th>4</th>\n",
       "      <td>Cold Blooded Killers (Killers from around the ...</td>\n",
       "      <td>0.156517</td>\n",
       "      <td>1.0</td>\n",
       "      <td>2008.0</td>\n",
       "    </tr>\n",
       "    <tr>\n",
       "      <th>5</th>\n",
       "      <td>A Perfect Blood (Hollows) [Kindle Edition]</td>\n",
       "      <td>0.149126</td>\n",
       "      <td>1.0</td>\n",
       "      <td>574.0</td>\n",
       "    </tr>\n",
       "    <tr>\n",
       "      <th>6</th>\n",
       "      <td>The Memory of Blood: A Peculiar Crimes Unit My...</td>\n",
       "      <td>0.146766</td>\n",
       "      <td>1.0</td>\n",
       "      <td>1980.0</td>\n",
       "    </tr>\n",
       "    <tr>\n",
       "      <th>7</th>\n",
       "      <td>Blood Forest (Suspense thriller) [Kindle Edition]</td>\n",
       "      <td>0.138879</td>\n",
       "      <td>1.0</td>\n",
       "      <td>1283.0</td>\n",
       "    </tr>\n",
       "    <tr>\n",
       "      <th>8</th>\n",
       "      <td>Silent Kills [Kindle Edition]</td>\n",
       "      <td>0.136596</td>\n",
       "      <td>1.0</td>\n",
       "      <td>1682.0</td>\n",
       "    </tr>\n",
       "    <tr>\n",
       "      <th>9</th>\n",
       "      <td>The House Beyond the Hill [Kindle Edition]</td>\n",
       "      <td>0.130562</td>\n",
       "      <td>1.0</td>\n",
       "      <td>458.0</td>\n",
       "    </tr>\n",
       "  </tbody>\n",
       "</table>\n",
       "</div>"
      ],
      "text/plain": [
       "                                               title     score  user_id  \\\n",
       "0                             PULSE [Kindle Edition]  0.199253      1.0   \n",
       "1  Dark Places: by Gillian Flynn -- Sidekick [Kin...  0.167221      1.0   \n",
       "2  Anna Dressed in Blood (Anna Dressed in Blood S...   0.15792      1.0   \n",
       "3  Life's Blood (Pulse Book 2) (PULSE Vampire Ser...  0.156698      1.0   \n",
       "4  Cold Blooded Killers (Killers from around the ...  0.156517      1.0   \n",
       "5         A Perfect Blood (Hollows) [Kindle Edition]  0.149126      1.0   \n",
       "6  The Memory of Blood: A Peculiar Crimes Unit My...  0.146766      1.0   \n",
       "7  Blood Forest (Suspense thriller) [Kindle Edition]  0.138879      1.0   \n",
       "8                      Silent Kills [Kindle Edition]  0.136596      1.0   \n",
       "9         The House Beyond the Hill [Kindle Edition]  0.130562      1.0   \n",
       "\n",
       "       id  \n",
       "0   151.0  \n",
       "1  1955.0  \n",
       "2  2023.0  \n",
       "3   358.0  \n",
       "4  2008.0  \n",
       "5   574.0  \n",
       "6  1980.0  \n",
       "7  1283.0  \n",
       "8  1682.0  \n",
       "9   458.0  "
      ]
     },
     "execution_count": 67,
     "metadata": {},
     "output_type": "execute_result"
    }
   ],
   "source": [
    "top = sorted(range(len(output2)), key=lambda i: output2[i], reverse=True)[:10]\n",
    "list_scores = [output2[i][0][0] for i in top]\n",
    "get_recommendation(top,book_list_df, list_scores)"
   ]
  },
  {
   "cell_type": "markdown",
   "id": "traditional-signal",
   "metadata": {},
   "source": [
    "Using spaCy"
   ]
  },
  {
   "cell_type": "markdown",
   "id": "million-doctrine",
   "metadata": {},
   "source": [
    "Will need to change where I put this spacy pkg\n"
   ]
  },
  {
   "cell_type": "code",
   "execution_count": 68,
   "id": "dried-comedy",
   "metadata": {},
   "outputs": [
    {
     "name": "stdout",
     "output_type": "stream",
     "text": [
      "2063\n",
      "CPU times: user 43 s, sys: 4.27 s, total: 47.2 s\n",
      "Wall time: 47.6 s\n"
     ]
    }
   ],
   "source": [
    "%%time\n",
    "list_docs = []\n",
    "for i in range(len(book_list_df)):\n",
    "  doc = nlp(\"u'\" + book_list_df['text'][i] + \"'\")\n",
    "  list_docs.append((doc,i))\n",
    "print(len(list_docs))"
   ]
  },
  {
   "cell_type": "code",
   "execution_count": 69,
   "id": "super-carter",
   "metadata": {},
   "outputs": [],
   "source": [
    "def calculateSimWithSpaCy(nlp, df, user_text, n=6):\n",
    "    # Calculate similarity using spaCy\n",
    "    list_sim =[]\n",
    "    doc1 = nlp(\"u'\" + user_text + \"'\")\n",
    "    for i in df.index:\n",
    "      try:\n",
    "            doc2 = list_docs[i][0]\n",
    "            score = doc1.similarity(doc2)\n",
    "            list_sim.append((doc1, doc2, list_docs[i][1],score))\n",
    "      except:\n",
    "        continue\n",
    "\n",
    "    return  list_sim"
   ]
  },
  {
   "cell_type": "code",
   "execution_count": 70,
   "id": "characteristic-livestock",
   "metadata": {},
   "outputs": [
    {
     "data": {
      "text/plain": [
       "'old blood dark'"
      ]
     },
     "execution_count": 70,
     "metadata": {},
     "output_type": "execute_result"
    }
   ],
   "source": [
    "user_q.text[0]"
   ]
  },
  {
   "cell_type": "code",
   "execution_count": 71,
   "id": "funny-request",
   "metadata": {},
   "outputs": [
    {
     "name": "stdout",
     "output_type": "stream",
     "text": [
      "CPU times: user 1.21 s, sys: 11.3 ms, total: 1.22 s\n",
      "Wall time: 1.22 s\n"
     ]
    }
   ],
   "source": [
    "%%time\n",
    " df3 = calculateSimWithSpaCy(nlp, book_list_df, user_q.text[0], n=15)"
   ]
  },
  {
   "cell_type": "code",
   "execution_count": 72,
   "id": "regional-binding",
   "metadata": {},
   "outputs": [],
   "source": [
    "df_recom_spacy = pd.DataFrame(df3).sort_values([3], ascending=False).head(10)"
   ]
  },
  {
   "cell_type": "code",
   "execution_count": 73,
   "id": "extreme-enzyme",
   "metadata": {},
   "outputs": [],
   "source": [
    "\n",
    "df_recom_spacy.reset_index(inplace=True)"
   ]
  },
  {
   "cell_type": "code",
   "execution_count": 74,
   "id": "worldwide-slovakia",
   "metadata": {},
   "outputs": [],
   "source": [
    "index_spacy = df_recom_spacy[2]\n",
    "list_scores = df_recom_spacy[3]"
   ]
  },
  {
   "cell_type": "code",
   "execution_count": 75,
   "id": "baking-grounds",
   "metadata": {},
   "outputs": [
    {
     "data": {
      "text/html": [
       "<div>\n",
       "<style scoped>\n",
       "    .dataframe tbody tr th:only-of-type {\n",
       "        vertical-align: middle;\n",
       "    }\n",
       "\n",
       "    .dataframe tbody tr th {\n",
       "        vertical-align: top;\n",
       "    }\n",
       "\n",
       "    .dataframe thead th {\n",
       "        text-align: right;\n",
       "    }\n",
       "</style>\n",
       "<table border=\"1\" class=\"dataframe\">\n",
       "  <thead>\n",
       "    <tr style=\"text-align: right;\">\n",
       "      <th></th>\n",
       "      <th>title</th>\n",
       "      <th>score</th>\n",
       "      <th>user_id</th>\n",
       "      <th>id</th>\n",
       "    </tr>\n",
       "  </thead>\n",
       "  <tbody>\n",
       "    <tr>\n",
       "      <th>0</th>\n",
       "      <td>Flesh [Kindle Edition]</td>\n",
       "      <td>0.720425</td>\n",
       "      <td>1.0</td>\n",
       "      <td>259.0</td>\n",
       "    </tr>\n",
       "    <tr>\n",
       "      <th>1</th>\n",
       "      <td>Her Master's Madness (A Dark Fairy Tale) [Kind...</td>\n",
       "      <td>0.715353</td>\n",
       "      <td>1.0</td>\n",
       "      <td>601.0</td>\n",
       "    </tr>\n",
       "    <tr>\n",
       "      <th>2</th>\n",
       "      <td>HORRORIFIC 3 Stories Even Colder and Darker [K...</td>\n",
       "      <td>0.71306</td>\n",
       "      <td>1.0</td>\n",
       "      <td>695.0</td>\n",
       "    </tr>\n",
       "    <tr>\n",
       "      <th>3</th>\n",
       "      <td>Sadistic Shorts: Tales from the Devil's Drawer...</td>\n",
       "      <td>0.71168</td>\n",
       "      <td>1.0</td>\n",
       "      <td>696.0</td>\n",
       "    </tr>\n",
       "    <tr>\n",
       "      <th>4</th>\n",
       "      <td>Anna Dressed in Blood (Anna Dressed in Blood S...</td>\n",
       "      <td>0.710371</td>\n",
       "      <td>1.0</td>\n",
       "      <td>2023.0</td>\n",
       "    </tr>\n",
       "    <tr>\n",
       "      <th>5</th>\n",
       "      <td>The Night the Moon Made a Sound [Kindle Edition]</td>\n",
       "      <td>0.703213</td>\n",
       "      <td>1.0</td>\n",
       "      <td>740.0</td>\n",
       "    </tr>\n",
       "    <tr>\n",
       "      <th>6</th>\n",
       "      <td>Into the Darkness: An End of Days Zombie Thril...</td>\n",
       "      <td>0.701825</td>\n",
       "      <td>1.0</td>\n",
       "      <td>616.0</td>\n",
       "    </tr>\n",
       "    <tr>\n",
       "      <th>7</th>\n",
       "      <td>Dragged Into Darkness [Kindle Edition]</td>\n",
       "      <td>0.698092</td>\n",
       "      <td>1.0</td>\n",
       "      <td>1729.0</td>\n",
       "    </tr>\n",
       "    <tr>\n",
       "      <th>8</th>\n",
       "      <td>Shiver (Wolves of Mercy Falls) [Kindle Edition]</td>\n",
       "      <td>0.697562</td>\n",
       "      <td>1.0</td>\n",
       "      <td>816.0</td>\n",
       "    </tr>\n",
       "    <tr>\n",
       "      <th>9</th>\n",
       "      <td>PULSE [Kindle Edition]</td>\n",
       "      <td>0.694092</td>\n",
       "      <td>1.0</td>\n",
       "      <td>151.0</td>\n",
       "    </tr>\n",
       "  </tbody>\n",
       "</table>\n",
       "</div>"
      ],
      "text/plain": [
       "                                               title     score  user_id  \\\n",
       "0                             Flesh [Kindle Edition]  0.720425      1.0   \n",
       "1  Her Master's Madness (A Dark Fairy Tale) [Kind...  0.715353      1.0   \n",
       "2  HORRORIFIC 3 Stories Even Colder and Darker [K...   0.71306      1.0   \n",
       "3  Sadistic Shorts: Tales from the Devil's Drawer...   0.71168      1.0   \n",
       "4  Anna Dressed in Blood (Anna Dressed in Blood S...  0.710371      1.0   \n",
       "5   The Night the Moon Made a Sound [Kindle Edition]  0.703213      1.0   \n",
       "6  Into the Darkness: An End of Days Zombie Thril...  0.701825      1.0   \n",
       "7             Dragged Into Darkness [Kindle Edition]  0.698092      1.0   \n",
       "8    Shiver (Wolves of Mercy Falls) [Kindle Edition]  0.697562      1.0   \n",
       "9                             PULSE [Kindle Edition]  0.694092      1.0   \n",
       "\n",
       "       id  \n",
       "0   259.0  \n",
       "1   601.0  \n",
       "2   695.0  \n",
       "3   696.0  \n",
       "4  2023.0  \n",
       "5   740.0  \n",
       "6   616.0  \n",
       "7  1729.0  \n",
       "8   816.0  \n",
       "9   151.0  "
      ]
     },
     "execution_count": 75,
     "metadata": {},
     "output_type": "execute_result"
    }
   ],
   "source": [
    "get_recommendation(index_spacy, book_list_df, list_scores)"
   ]
  },
  {
   "cell_type": "code",
   "execution_count": null,
   "id": "altered-package",
   "metadata": {},
   "outputs": [],
   "source": []
  }
 ],
 "metadata": {
  "kernelspec": {
   "display_name": "Python 3",
   "language": "python",
   "name": "python3"
  },
  "language_info": {
   "codemirror_mode": {
    "name": "ipython",
    "version": 3
   },
   "file_extension": ".py",
   "mimetype": "text/x-python",
   "name": "python",
   "nbconvert_exporter": "python",
   "pygments_lexer": "ipython3",
   "version": "3.8.2"
  }
 },
 "nbformat": 4,
 "nbformat_minor": 5
}
