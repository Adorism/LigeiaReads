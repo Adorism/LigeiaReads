{
 "cells": [
  {
   "cell_type": "code",
   "execution_count": 1,
   "id": "studied-portable",
   "metadata": {},
   "outputs": [],
   "source": [
    "import numpy as np\n",
    "import pandas as pd\n",
    "import re\n",
    "import string\n",
    "\n",
    "import spacy \n",
    "import sklearn\n",
    "\n",
    "from nltk.corpus import stopwords\n",
    "from nltk.stem import WordNetLemmatizer\n",
    "from nltk import word_tokenize\n",
    "from nltk.corpus import stopwords"
   ]
  },
  {
   "cell_type": "code",
   "execution_count": 2,
   "id": "60eb8dca",
   "metadata": {},
   "outputs": [],
   "source": [
    "nlp = spacy.load('en_core_web_lg')"
   ]
  },
  {
   "cell_type": "code",
   "execution_count": 3,
   "id": "animal-concept",
   "metadata": {},
   "outputs": [],
   "source": [
    "book_list = pd.read_pickle('../data/scary_books.pkl')"
   ]
  },
  {
   "cell_type": "code",
   "execution_count": 4,
   "id": "prescribed-greenhouse",
   "metadata": {},
   "outputs": [
    {
     "name": "stdout",
     "output_type": "stream",
     "text": [
      "<class 'pandas.core.frame.DataFrame'>\n",
      "RangeIndex: 2063 entries, 0 to 2062\n",
      "Data columns (total 7 columns):\n",
      " #   Column            Non-Null Count  Dtype  \n",
      "---  ------            --------------  -----  \n",
      " 0   title             2063 non-null   object \n",
      " 1   author            2063 non-null   object \n",
      " 2   description       2063 non-null   object \n",
      " 3   publisher         1766 non-null   object \n",
      " 4   customer_reviews  2042 non-null   float64\n",
      " 5   stars             2042 non-null   float64\n",
      " 6   url               2063 non-null   object \n",
      "dtypes: float64(2), object(5)\n",
      "memory usage: 112.9+ KB\n"
     ]
    }
   ],
   "source": [
    "book_list.info()"
   ]
  },
  {
   "cell_type": "code",
   "execution_count": 5,
   "id": "moderate-gibson",
   "metadata": {},
   "outputs": [
    {
     "data": {
      "text/plain": [
       "title                 0\n",
       "author                0\n",
       "description           0\n",
       "publisher           297\n",
       "customer_reviews     21\n",
       "stars                21\n",
       "url                   0\n",
       "dtype: int64"
      ]
     },
     "execution_count": 5,
     "metadata": {},
     "output_type": "execute_result"
    }
   ],
   "source": [
    "\n",
    "book_list.isnull().sum()"
   ]
  },
  {
   "cell_type": "code",
   "execution_count": 6,
   "id": "generous-cowboy",
   "metadata": {},
   "outputs": [],
   "source": [
    "book_list['stars']=book_list['stars'].fillna(book_list['stars'].mean())"
   ]
  },
  {
   "cell_type": "code",
   "execution_count": 7,
   "id": "major-nebraska",
   "metadata": {},
   "outputs": [],
   "source": [
    "book_list['customer_reviews']=book_list['customer_reviews'].fillna(0)"
   ]
  },
  {
   "cell_type": "code",
   "execution_count": 8,
   "id": "dirty-sender",
   "metadata": {},
   "outputs": [],
   "source": [
    "book_list['publisher']=book_list['publisher'].fillna('Self')"
   ]
  },
  {
   "cell_type": "code",
   "execution_count": 9,
   "id": "angry-recall",
   "metadata": {},
   "outputs": [],
   "source": [
    "book_list[\"id\"] = book_list.index + 1"
   ]
  },
  {
   "cell_type": "code",
   "execution_count": 10,
   "id": "rocky-maine",
   "metadata": {},
   "outputs": [
    {
     "data": {
      "text/html": [
       "<div>\n",
       "<style scoped>\n",
       "    .dataframe tbody tr th:only-of-type {\n",
       "        vertical-align: middle;\n",
       "    }\n",
       "\n",
       "    .dataframe tbody tr th {\n",
       "        vertical-align: top;\n",
       "    }\n",
       "\n",
       "    .dataframe thead th {\n",
       "        text-align: right;\n",
       "    }\n",
       "</style>\n",
       "<table border=\"1\" class=\"dataframe\">\n",
       "  <thead>\n",
       "    <tr style=\"text-align: right;\">\n",
       "      <th></th>\n",
       "      <th>title</th>\n",
       "      <th>author</th>\n",
       "      <th>description</th>\n",
       "      <th>publisher</th>\n",
       "      <th>customer_reviews</th>\n",
       "      <th>stars</th>\n",
       "      <th>url</th>\n",
       "      <th>id</th>\n",
       "    </tr>\n",
       "  </thead>\n",
       "  <tbody>\n",
       "    <tr>\n",
       "      <th>0</th>\n",
       "      <td>A Time to Kill: A Novel [Kindle Edition]</td>\n",
       "      <td>John Grisham</td>\n",
       "      <td>Don’t miss a sneak peek of Sycamore Row, John ...</td>\n",
       "      <td>Dell</td>\n",
       "      <td>918.0</td>\n",
       "      <td>4.5</td>\n",
       "      <td>http://www.amazon.com/A-Time-Kill-Novel-ebook/...</td>\n",
       "      <td>1</td>\n",
       "    </tr>\n",
       "    <tr>\n",
       "      <th>1</th>\n",
       "      <td>Failure to Appear (J. P. Beaumont Novel) [Kind...</td>\n",
       "      <td>J. A. Jance</td>\n",
       "      <td>A shattering tale of tragedy and horror from t...</td>\n",
       "      <td>William Morrow; Reprint edition</td>\n",
       "      <td>34.0</td>\n",
       "      <td>4.8</td>\n",
       "      <td>http://www.amazon.com/Failure-Appear-J-Beaumon...</td>\n",
       "      <td>2</td>\n",
       "    </tr>\n",
       "    <tr>\n",
       "      <th>2</th>\n",
       "      <td>Twelve Years a Slave [Kindle Edition]</td>\n",
       "      <td>Solomon Northup</td>\n",
       "      <td>First published in 1853, Twelve Years a Slave ...</td>\n",
       "      <td>HarperPerennial Classics</td>\n",
       "      <td>1374.0</td>\n",
       "      <td>4.6</td>\n",
       "      <td>http://www.amazon.com/Twelve-Years-Slave-Solom...</td>\n",
       "      <td>3</td>\n",
       "    </tr>\n",
       "    <tr>\n",
       "      <th>3</th>\n",
       "      <td>Without Due Process (J. P. Beaumont Novel) [Ki...</td>\n",
       "      <td>J. A. Jance</td>\n",
       "      <td>Top ten New York Times bestselling author J.A....</td>\n",
       "      <td>William Morrow; Reissue edition</td>\n",
       "      <td>39.0</td>\n",
       "      <td>4.8</td>\n",
       "      <td>http://www.amazon.com/Without-Due-Process-Beau...</td>\n",
       "      <td>4</td>\n",
       "    </tr>\n",
       "    <tr>\n",
       "      <th>4</th>\n",
       "      <td>Devil's Claw: A Joanna Brady Mystery (Joanna B...</td>\n",
       "      <td>J. A. Jance</td>\n",
       "      <td>In the night-still canyons of the Arizona dese...</td>\n",
       "      <td>William Morrow; Reissue edition</td>\n",
       "      <td>63.0</td>\n",
       "      <td>4.5</td>\n",
       "      <td>http://www.amazon.com/Devils-Claw-Joanna-Myste...</td>\n",
       "      <td>5</td>\n",
       "    </tr>\n",
       "  </tbody>\n",
       "</table>\n",
       "</div>"
      ],
      "text/plain": [
       "                                               title           author  \\\n",
       "0           A Time to Kill: A Novel [Kindle Edition]     John Grisham   \n",
       "1  Failure to Appear (J. P. Beaumont Novel) [Kind...      J. A. Jance   \n",
       "2              Twelve Years a Slave [Kindle Edition]  Solomon Northup   \n",
       "3  Without Due Process (J. P. Beaumont Novel) [Ki...      J. A. Jance   \n",
       "4  Devil's Claw: A Joanna Brady Mystery (Joanna B...      J. A. Jance   \n",
       "\n",
       "                                         description  \\\n",
       "0  Don’t miss a sneak peek of Sycamore Row, John ...   \n",
       "1  A shattering tale of tragedy and horror from t...   \n",
       "2  First published in 1853, Twelve Years a Slave ...   \n",
       "3  Top ten New York Times bestselling author J.A....   \n",
       "4  In the night-still canyons of the Arizona dese...   \n",
       "\n",
       "                         publisher  customer_reviews  stars  \\\n",
       "0                             Dell             918.0    4.5   \n",
       "1  William Morrow; Reprint edition              34.0    4.8   \n",
       "2         HarperPerennial Classics            1374.0    4.6   \n",
       "3  William Morrow; Reissue edition              39.0    4.8   \n",
       "4  William Morrow; Reissue edition              63.0    4.5   \n",
       "\n",
       "                                                 url  id  \n",
       "0  http://www.amazon.com/A-Time-Kill-Novel-ebook/...   1  \n",
       "1  http://www.amazon.com/Failure-Appear-J-Beaumon...   2  \n",
       "2  http://www.amazon.com/Twelve-Years-Slave-Solom...   3  \n",
       "3  http://www.amazon.com/Without-Due-Process-Beau...   4  \n",
       "4  http://www.amazon.com/Devils-Claw-Joanna-Myste...   5  "
      ]
     },
     "execution_count": 10,
     "metadata": {},
     "output_type": "execute_result"
    }
   ],
   "source": [
    "book_list.head()"
   ]
  },
  {
   "cell_type": "code",
   "execution_count": 11,
   "id": "relative-orleans",
   "metadata": {},
   "outputs": [
    {
     "data": {
      "text/html": [
       "<div>\n",
       "<style scoped>\n",
       "    .dataframe tbody tr th:only-of-type {\n",
       "        vertical-align: middle;\n",
       "    }\n",
       "\n",
       "    .dataframe tbody tr th {\n",
       "        vertical-align: top;\n",
       "    }\n",
       "\n",
       "    .dataframe thead th {\n",
       "        text-align: right;\n",
       "    }\n",
       "</style>\n",
       "<table border=\"1\" class=\"dataframe\">\n",
       "  <thead>\n",
       "    <tr style=\"text-align: right;\">\n",
       "      <th></th>\n",
       "      <th>title</th>\n",
       "      <th>author</th>\n",
       "      <th>description</th>\n",
       "      <th>publisher</th>\n",
       "      <th>customer_reviews</th>\n",
       "      <th>stars</th>\n",
       "      <th>url</th>\n",
       "      <th>id</th>\n",
       "      <th>text</th>\n",
       "    </tr>\n",
       "  </thead>\n",
       "  <tbody>\n",
       "    <tr>\n",
       "      <th>0</th>\n",
       "      <td>A Time to Kill: A Novel [Kindle Edition]</td>\n",
       "      <td>John Grisham</td>\n",
       "      <td>Don’t miss a sneak peek of Sycamore Row, John ...</td>\n",
       "      <td>Dell</td>\n",
       "      <td>918.0</td>\n",
       "      <td>4.5</td>\n",
       "      <td>http://www.amazon.com/A-Time-Kill-Novel-ebook/...</td>\n",
       "      <td>1</td>\n",
       "      <td>A Time to Kill: A Novel [Kindle Edition] John ...</td>\n",
       "    </tr>\n",
       "    <tr>\n",
       "      <th>1</th>\n",
       "      <td>Failure to Appear (J. P. Beaumont Novel) [Kind...</td>\n",
       "      <td>J. A. Jance</td>\n",
       "      <td>A shattering tale of tragedy and horror from t...</td>\n",
       "      <td>William Morrow; Reprint edition</td>\n",
       "      <td>34.0</td>\n",
       "      <td>4.8</td>\n",
       "      <td>http://www.amazon.com/Failure-Appear-J-Beaumon...</td>\n",
       "      <td>2</td>\n",
       "      <td>Failure to Appear (J. P. Beaumont Novel) [Kind...</td>\n",
       "    </tr>\n",
       "  </tbody>\n",
       "</table>\n",
       "</div>"
      ],
      "text/plain": [
       "                                               title        author  \\\n",
       "0           A Time to Kill: A Novel [Kindle Edition]  John Grisham   \n",
       "1  Failure to Appear (J. P. Beaumont Novel) [Kind...   J. A. Jance   \n",
       "\n",
       "                                         description  \\\n",
       "0  Don’t miss a sneak peek of Sycamore Row, John ...   \n",
       "1  A shattering tale of tragedy and horror from t...   \n",
       "\n",
       "                         publisher  customer_reviews  stars  \\\n",
       "0                             Dell             918.0    4.5   \n",
       "1  William Morrow; Reprint edition              34.0    4.8   \n",
       "\n",
       "                                                 url  id  \\\n",
       "0  http://www.amazon.com/A-Time-Kill-Novel-ebook/...   1   \n",
       "1  http://www.amazon.com/Failure-Appear-J-Beaumon...   2   \n",
       "\n",
       "                                                text  \n",
       "0  A Time to Kill: A Novel [Kindle Edition] John ...  \n",
       "1  Failure to Appear (J. P. Beaumont Novel) [Kind...  "
      ]
     },
     "execution_count": 11,
     "metadata": {},
     "output_type": "execute_result"
    }
   ],
   "source": [
    "book_list[\"text\"] = book_list[\"title\"].map(str) + \" \" + book_list[\"author\"] +\" \"+ book_list[\"description\"]+ \" \"+book_list['publisher']\n",
    "book_list.head(2)"
   ]
  },
  {
   "cell_type": "code",
   "execution_count": 12,
   "id": "entertaining-pollution",
   "metadata": {},
   "outputs": [],
   "source": [
    "book_list_df = book_list[['id', 'text', 'title', 'author', 'url']]"
   ]
  },
  {
   "cell_type": "code",
   "execution_count": 13,
   "id": "continuing-reality",
   "metadata": {},
   "outputs": [
    {
     "data": {
      "text/html": [
       "<div>\n",
       "<style scoped>\n",
       "    .dataframe tbody tr th:only-of-type {\n",
       "        vertical-align: middle;\n",
       "    }\n",
       "\n",
       "    .dataframe tbody tr th {\n",
       "        vertical-align: top;\n",
       "    }\n",
       "\n",
       "    .dataframe thead th {\n",
       "        text-align: right;\n",
       "    }\n",
       "</style>\n",
       "<table border=\"1\" class=\"dataframe\">\n",
       "  <thead>\n",
       "    <tr style=\"text-align: right;\">\n",
       "      <th></th>\n",
       "      <th>id</th>\n",
       "      <th>text</th>\n",
       "      <th>title</th>\n",
       "      <th>author</th>\n",
       "      <th>url</th>\n",
       "    </tr>\n",
       "  </thead>\n",
       "  <tbody>\n",
       "    <tr>\n",
       "      <th>0</th>\n",
       "      <td>1</td>\n",
       "      <td>A Time to Kill: A Novel [Kindle Edition] John ...</td>\n",
       "      <td>A Time to Kill: A Novel [Kindle Edition]</td>\n",
       "      <td>John Grisham</td>\n",
       "      <td>http://www.amazon.com/A-Time-Kill-Novel-ebook/...</td>\n",
       "    </tr>\n",
       "    <tr>\n",
       "      <th>1</th>\n",
       "      <td>2</td>\n",
       "      <td>Failure to Appear (J. P. Beaumont Novel) [Kind...</td>\n",
       "      <td>Failure to Appear (J. P. Beaumont Novel) [Kind...</td>\n",
       "      <td>J. A. Jance</td>\n",
       "      <td>http://www.amazon.com/Failure-Appear-J-Beaumon...</td>\n",
       "    </tr>\n",
       "    <tr>\n",
       "      <th>2</th>\n",
       "      <td>3</td>\n",
       "      <td>Twelve Years a Slave [Kindle Edition] Solomon ...</td>\n",
       "      <td>Twelve Years a Slave [Kindle Edition]</td>\n",
       "      <td>Solomon Northup</td>\n",
       "      <td>http://www.amazon.com/Twelve-Years-Slave-Solom...</td>\n",
       "    </tr>\n",
       "    <tr>\n",
       "      <th>3</th>\n",
       "      <td>4</td>\n",
       "      <td>Without Due Process (J. P. Beaumont Novel) [Ki...</td>\n",
       "      <td>Without Due Process (J. P. Beaumont Novel) [Ki...</td>\n",
       "      <td>J. A. Jance</td>\n",
       "      <td>http://www.amazon.com/Without-Due-Process-Beau...</td>\n",
       "    </tr>\n",
       "    <tr>\n",
       "      <th>4</th>\n",
       "      <td>5</td>\n",
       "      <td>Devil's Claw: A Joanna Brady Mystery (Joanna B...</td>\n",
       "      <td>Devil's Claw: A Joanna Brady Mystery (Joanna B...</td>\n",
       "      <td>J. A. Jance</td>\n",
       "      <td>http://www.amazon.com/Devils-Claw-Joanna-Myste...</td>\n",
       "    </tr>\n",
       "  </tbody>\n",
       "</table>\n",
       "</div>"
      ],
      "text/plain": [
       "   id                                               text  \\\n",
       "0   1  A Time to Kill: A Novel [Kindle Edition] John ...   \n",
       "1   2  Failure to Appear (J. P. Beaumont Novel) [Kind...   \n",
       "2   3  Twelve Years a Slave [Kindle Edition] Solomon ...   \n",
       "3   4  Without Due Process (J. P. Beaumont Novel) [Ki...   \n",
       "4   5  Devil's Claw: A Joanna Brady Mystery (Joanna B...   \n",
       "\n",
       "                                               title           author  \\\n",
       "0           A Time to Kill: A Novel [Kindle Edition]     John Grisham   \n",
       "1  Failure to Appear (J. P. Beaumont Novel) [Kind...      J. A. Jance   \n",
       "2              Twelve Years a Slave [Kindle Edition]  Solomon Northup   \n",
       "3  Without Due Process (J. P. Beaumont Novel) [Ki...      J. A. Jance   \n",
       "4  Devil's Claw: A Joanna Brady Mystery (Joanna B...      J. A. Jance   \n",
       "\n",
       "                                                 url  \n",
       "0  http://www.amazon.com/A-Time-Kill-Novel-ebook/...  \n",
       "1  http://www.amazon.com/Failure-Appear-J-Beaumon...  \n",
       "2  http://www.amazon.com/Twelve-Years-Slave-Solom...  \n",
       "3  http://www.amazon.com/Without-Due-Process-Beau...  \n",
       "4  http://www.amazon.com/Devils-Claw-Joanna-Myste...  "
      ]
     },
     "execution_count": 13,
     "metadata": {},
     "output_type": "execute_result"
    }
   ],
   "source": [
    "book_list_df.head()"
   ]
  },
  {
   "cell_type": "code",
   "execution_count": 14,
   "id": "dramatic-newark",
   "metadata": {},
   "outputs": [
    {
     "data": {
      "text/plain": [
       "(2063, 5)"
      ]
     },
     "execution_count": 14,
     "metadata": {},
     "output_type": "execute_result"
    }
   ],
   "source": [
    "book_list_df.shape"
   ]
  },
  {
   "cell_type": "code",
   "execution_count": 15,
   "id": "moving-dodge",
   "metadata": {},
   "outputs": [],
   "source": [
    "\n",
    "stop = stopwords.words('english')\n",
    "stop_words_ = set(stopwords.words('english'))\n",
    "wn = WordNetLemmatizer()\n"
   ]
  },
  {
   "cell_type": "code",
   "execution_count": 16,
   "id": "fresh-mouse",
   "metadata": {},
   "outputs": [],
   "source": [
    "\n",
    "def black_txt(token):\n",
    "    return  token not in stop_words_ and token not in list(string.punctuation)  and len(token)>2   "
   ]
  },
  {
   "cell_type": "markdown",
   "id": "touched-recall",
   "metadata": {},
   "source": [
    "Remove stop Words, Remove non-alphanumeric characters, lemmatize columns, merge all columns in order to create a corpus of text for each book"
   ]
  },
  {
   "cell_type": "code",
   "execution_count": 17,
   "id": "cooked-resistance",
   "metadata": {},
   "outputs": [],
   "source": [
    "def clean_txt(text):\n",
    "    clean_text = []\n",
    "    clean_text2 = []\n",
    "    text = re.sub(\"'\", \"\",text)\n",
    "    text = re.sub(\"(\\\\d|\\\\W)+\",\" \",text)\n",
    "    text = text.replace(\"kindle\", \"\")\n",
    "    text = text.replace(\"edition\", \"\")\n",
    "    clean_text = [ wn.lemmatize(word, pos=\"v\") for word in word_tokenize(text.lower()) if black_txt(word)]\n",
    "    clean_text2 = [word for word in clean_text if black_txt(word)]\n",
    "    return \" \".join(clean_text2)"
   ]
  },
  {
   "cell_type": "code",
   "execution_count": 18,
   "id": "pretty-listening",
   "metadata": {},
   "outputs": [
    {
     "name": "stderr",
     "output_type": "stream",
     "text": [
      "<ipython-input-18-f10be6f7747f>:1: SettingWithCopyWarning: \n",
      "A value is trying to be set on a copy of a slice from a DataFrame.\n",
      "Try using .loc[row_indexer,col_indexer] = value instead\n",
      "\n",
      "See the caveats in the documentation: https://pandas.pydata.org/pandas-docs/stable/user_guide/indexing.html#returning-a-view-versus-a-copy\n",
      "  book_list_df['text'] = book_list_df['text'].apply(clean_txt)\n"
     ]
    }
   ],
   "source": [
    "book_list_df['text'] = book_list_df['text'].apply(clean_txt)"
   ]
  },
  {
   "cell_type": "code",
   "execution_count": 19,
   "id": "innovative-plymouth",
   "metadata": {
    "scrolled": true
   },
   "outputs": [
    {
     "data": {
      "text/html": [
       "<div>\n",
       "<style scoped>\n",
       "    .dataframe tbody tr th:only-of-type {\n",
       "        vertical-align: middle;\n",
       "    }\n",
       "\n",
       "    .dataframe tbody tr th {\n",
       "        vertical-align: top;\n",
       "    }\n",
       "\n",
       "    .dataframe thead th {\n",
       "        text-align: right;\n",
       "    }\n",
       "</style>\n",
       "<table border=\"1\" class=\"dataframe\">\n",
       "  <thead>\n",
       "    <tr style=\"text-align: right;\">\n",
       "      <th></th>\n",
       "      <th>id</th>\n",
       "      <th>text</th>\n",
       "      <th>title</th>\n",
       "      <th>author</th>\n",
       "      <th>url</th>\n",
       "    </tr>\n",
       "  </thead>\n",
       "  <tbody>\n",
       "    <tr>\n",
       "      <th>0</th>\n",
       "      <td>1</td>\n",
       "      <td>time kill novel kindle edition john grisham mi...</td>\n",
       "      <td>A Time to Kill: A Novel [Kindle Edition]</td>\n",
       "      <td>John Grisham</td>\n",
       "      <td>http://www.amazon.com/A-Time-Kill-Novel-ebook/...</td>\n",
       "    </tr>\n",
       "    <tr>\n",
       "      <th>1</th>\n",
       "      <td>2</td>\n",
       "      <td>failure appear beaumont novel kindle edition j...</td>\n",
       "      <td>Failure to Appear (J. P. Beaumont Novel) [Kind...</td>\n",
       "      <td>J. A. Jance</td>\n",
       "      <td>http://www.amazon.com/Failure-Appear-J-Beaumon...</td>\n",
       "    </tr>\n",
       "    <tr>\n",
       "      <th>2</th>\n",
       "      <td>3</td>\n",
       "      <td>twelve years slave kindle edition solomon nort...</td>\n",
       "      <td>Twelve Years a Slave [Kindle Edition]</td>\n",
       "      <td>Solomon Northup</td>\n",
       "      <td>http://www.amazon.com/Twelve-Years-Slave-Solom...</td>\n",
       "    </tr>\n",
       "    <tr>\n",
       "      <th>3</th>\n",
       "      <td>4</td>\n",
       "      <td>without due process beaumont novel kindle edit...</td>\n",
       "      <td>Without Due Process (J. P. Beaumont Novel) [Ki...</td>\n",
       "      <td>J. A. Jance</td>\n",
       "      <td>http://www.amazon.com/Without-Due-Process-Beau...</td>\n",
       "    </tr>\n",
       "    <tr>\n",
       "      <th>4</th>\n",
       "      <td>5</td>\n",
       "      <td>devil claw joanna brady mystery joanna brady m...</td>\n",
       "      <td>Devil's Claw: A Joanna Brady Mystery (Joanna B...</td>\n",
       "      <td>J. A. Jance</td>\n",
       "      <td>http://www.amazon.com/Devils-Claw-Joanna-Myste...</td>\n",
       "    </tr>\n",
       "  </tbody>\n",
       "</table>\n",
       "</div>"
      ],
      "text/plain": [
       "   id                                               text  \\\n",
       "0   1  time kill novel kindle edition john grisham mi...   \n",
       "1   2  failure appear beaumont novel kindle edition j...   \n",
       "2   3  twelve years slave kindle edition solomon nort...   \n",
       "3   4  without due process beaumont novel kindle edit...   \n",
       "4   5  devil claw joanna brady mystery joanna brady m...   \n",
       "\n",
       "                                               title           author  \\\n",
       "0           A Time to Kill: A Novel [Kindle Edition]     John Grisham   \n",
       "1  Failure to Appear (J. P. Beaumont Novel) [Kind...      J. A. Jance   \n",
       "2              Twelve Years a Slave [Kindle Edition]  Solomon Northup   \n",
       "3  Without Due Process (J. P. Beaumont Novel) [Ki...      J. A. Jance   \n",
       "4  Devil's Claw: A Joanna Brady Mystery (Joanna B...      J. A. Jance   \n",
       "\n",
       "                                                 url  \n",
       "0  http://www.amazon.com/A-Time-Kill-Novel-ebook/...  \n",
       "1  http://www.amazon.com/Failure-Appear-J-Beaumon...  \n",
       "2  http://www.amazon.com/Twelve-Years-Slave-Solom...  \n",
       "3  http://www.amazon.com/Without-Due-Process-Beau...  \n",
       "4  http://www.amazon.com/Devils-Claw-Joanna-Myste...  "
      ]
     },
     "execution_count": 19,
     "metadata": {},
     "output_type": "execute_result"
    }
   ],
   "source": [
    "book_list_df.head()"
   ]
  },
  {
   "cell_type": "markdown",
   "id": "literary-scoop",
   "metadata": {},
   "source": [
    "Speculative word bank, hand-built, with inspiration from the Word2Vec model I built in the previous capstone. "
   ]
  },
  {
   "cell_type": "code",
   "execution_count": 20,
   "id": "contained-morocco",
   "metadata": {},
   "outputs": [],
   "source": [
    "reader_choices = ['monster', 'lore', 'grave', 'animal', 'dread', 'haunted', 'claw', 'eerie', 'old', 'mystery', 'dark', 'fear', 'ghost', 'terror', 'blood', 'gore', 'death', 'danger', 'atmosphere', 'supernatural']"
   ]
  },
  {
   "cell_type": "code",
   "execution_count": 21,
   "id": "optical-vacation",
   "metadata": {},
   "outputs": [],
   "source": [
    "import random"
   ]
  },
  {
   "cell_type": "code",
   "execution_count": 22,
   "id": "ac75d72d",
   "metadata": {},
   "outputs": [],
   "source": [
    "\n",
    "sample_reader = random.sample(reader_choices, 3)"
   ]
  },
  {
   "cell_type": "code",
   "execution_count": 23,
   "id": "hispanic-companion",
   "metadata": {},
   "outputs": [],
   "source": [
    "sample_reader = ' '.join([str(elem) for elem in sample_reader])"
   ]
  },
  {
   "cell_type": "code",
   "execution_count": 24,
   "id": "blond-shark",
   "metadata": {},
   "outputs": [
    {
     "data": {
      "text/plain": [
       "'animal old fear'"
      ]
     },
     "execution_count": 24,
     "metadata": {},
     "output_type": "execute_result"
    }
   ],
   "source": [
    "sample_reader"
   ]
  },
  {
   "cell_type": "code",
   "execution_count": 25,
   "id": "weighted-means",
   "metadata": {},
   "outputs": [],
   "source": [
    "reader_number = 1"
   ]
  },
  {
   "cell_type": "markdown",
   "id": "hollywood-prior",
   "metadata": {},
   "source": [
    "Different from a collaborative filtering approach which builds a model from a user's past behaviors, a Content based approach utilizes a series of discrete characteristics of an item in order to recommend additional items with similar properties. My implementation could be improved by adding data collectino features that would eventually turn it in to a hybrid approach. "
   ]
  },
  {
   "cell_type": "code",
   "execution_count": 26,
   "id": "legal-tooth",
   "metadata": {},
   "outputs": [],
   "source": [
    "dict = {'user_id': [reader_number], 'selections': [sample_reader]}"
   ]
  },
  {
   "cell_type": "code",
   "execution_count": 27,
   "id": "synthetic-postage",
   "metadata": {},
   "outputs": [],
   "source": [
    "user_df = pd.DataFrame(dict)"
   ]
  },
  {
   "cell_type": "code",
   "execution_count": 28,
   "id": "lucky-immunology",
   "metadata": {},
   "outputs": [
    {
     "data": {
      "text/html": [
       "<div>\n",
       "<style scoped>\n",
       "    .dataframe tbody tr th:only-of-type {\n",
       "        vertical-align: middle;\n",
       "    }\n",
       "\n",
       "    .dataframe tbody tr th {\n",
       "        vertical-align: top;\n",
       "    }\n",
       "\n",
       "    .dataframe thead th {\n",
       "        text-align: right;\n",
       "    }\n",
       "</style>\n",
       "<table border=\"1\" class=\"dataframe\">\n",
       "  <thead>\n",
       "    <tr style=\"text-align: right;\">\n",
       "      <th></th>\n",
       "      <th>user_id</th>\n",
       "      <th>selections</th>\n",
       "    </tr>\n",
       "  </thead>\n",
       "  <tbody>\n",
       "    <tr>\n",
       "      <th>0</th>\n",
       "      <td>1</td>\n",
       "      <td>animal old fear</td>\n",
       "    </tr>\n",
       "  </tbody>\n",
       "</table>\n",
       "</div>"
      ],
      "text/plain": [
       "   user_id       selections\n",
       "0        1  animal old fear"
      ]
     },
     "execution_count": 28,
     "metadata": {},
     "output_type": "execute_result"
    }
   ],
   "source": [
    "user_df"
   ]
  },
  {
   "cell_type": "code",
   "execution_count": 29,
   "id": "catholic-samoa",
   "metadata": {},
   "outputs": [],
   "source": [
    "user_df['text'] = user_df['selections'].map(str).apply(clean_txt)"
   ]
  },
  {
   "cell_type": "code",
   "execution_count": 30,
   "id": "complete-thomas",
   "metadata": {},
   "outputs": [
    {
     "data": {
      "text/html": [
       "<div>\n",
       "<style scoped>\n",
       "    .dataframe tbody tr th:only-of-type {\n",
       "        vertical-align: middle;\n",
       "    }\n",
       "\n",
       "    .dataframe tbody tr th {\n",
       "        vertical-align: top;\n",
       "    }\n",
       "\n",
       "    .dataframe thead th {\n",
       "        text-align: right;\n",
       "    }\n",
       "</style>\n",
       "<table border=\"1\" class=\"dataframe\">\n",
       "  <thead>\n",
       "    <tr style=\"text-align: right;\">\n",
       "      <th></th>\n",
       "      <th>user_id</th>\n",
       "      <th>selections</th>\n",
       "      <th>text</th>\n",
       "    </tr>\n",
       "  </thead>\n",
       "  <tbody>\n",
       "    <tr>\n",
       "      <th>0</th>\n",
       "      <td>1</td>\n",
       "      <td>animal old fear</td>\n",
       "      <td>animal old fear</td>\n",
       "    </tr>\n",
       "  </tbody>\n",
       "</table>\n",
       "</div>"
      ],
      "text/plain": [
       "   user_id       selections             text\n",
       "0        1  animal old fear  animal old fear"
      ]
     },
     "execution_count": 30,
     "metadata": {},
     "output_type": "execute_result"
    }
   ],
   "source": [
    "user_df"
   ]
  },
  {
   "cell_type": "code",
   "execution_count": 31,
   "id": "charming-signal",
   "metadata": {},
   "outputs": [],
   "source": [
    "user_recc_df = user_df[['user_id', 'text']]"
   ]
  },
  {
   "cell_type": "code",
   "execution_count": 32,
   "id": "operational-madagascar",
   "metadata": {},
   "outputs": [
    {
     "data": {
      "text/html": [
       "<div>\n",
       "<style scoped>\n",
       "    .dataframe tbody tr th:only-of-type {\n",
       "        vertical-align: middle;\n",
       "    }\n",
       "\n",
       "    .dataframe tbody tr th {\n",
       "        vertical-align: top;\n",
       "    }\n",
       "\n",
       "    .dataframe thead th {\n",
       "        text-align: right;\n",
       "    }\n",
       "</style>\n",
       "<table border=\"1\" class=\"dataframe\">\n",
       "  <thead>\n",
       "    <tr style=\"text-align: right;\">\n",
       "      <th></th>\n",
       "      <th>user_id</th>\n",
       "      <th>text</th>\n",
       "    </tr>\n",
       "  </thead>\n",
       "  <tbody>\n",
       "    <tr>\n",
       "      <th>0</th>\n",
       "      <td>1</td>\n",
       "      <td>animal old fear</td>\n",
       "    </tr>\n",
       "  </tbody>\n",
       "</table>\n",
       "</div>"
      ],
      "text/plain": [
       "   user_id             text\n",
       "0        1  animal old fear"
      ]
     },
     "execution_count": 32,
     "metadata": {},
     "output_type": "execute_result"
    }
   ],
   "source": [
    "u = 1\n",
    "index = np.where(user_recc_df['user_id']==u)[0][0]\n",
    "user_q = user_recc_df.iloc[[index]]\n",
    "user_q"
   ]
  },
  {
   "cell_type": "code",
   "execution_count": 70,
   "id": "regular-korea",
   "metadata": {},
   "outputs": [
    {
     "data": {
      "text/plain": [
       "<2063x25213 sparse matrix of type '<class 'numpy.float64'>'\n",
       "\twith 242641 stored elements in Compressed Sparse Row format>"
      ]
     },
     "execution_count": 70,
     "metadata": {},
     "output_type": "execute_result"
    }
   ],
   "source": [
    "#initializing tfidf vectorizer\n",
    "from sklearn.feature_extraction.text import TfidfVectorizer\n",
    "tfidf_vectorizer = TfidfVectorizer()\n",
    "\n",
    "tfidf_bookid = tfidf_vectorizer.fit_transform((book_list_df['text'])) #fitting and transforming the vector\n",
    "tfidf_bookid"
   ]
  },
  {
   "cell_type": "markdown",
   "id": "ranging-dealing",
   "metadata": {},
   "source": [
    "Using TF-IDF"
   ]
  },
  {
   "cell_type": "code",
   "execution_count": 37,
   "id": "anonymous-ticket",
   "metadata": {},
   "outputs": [],
   "source": [
    "from sklearn.metrics.pairwise import cosine_similarity\n",
    "\n",
    "user_tfidf = tfidf_vectorizer.transform(user_q['text'])\n",
    "\n",
    "cos_similarity_tfidf = map(lambda x: cosine_similarity(user_tfidf, x),tfidf_bookid)"
   ]
  },
  {
   "cell_type": "code",
   "execution_count": 38,
   "id": "dressed-sentence",
   "metadata": {},
   "outputs": [],
   "source": [
    "output2 = list(cos_similarity_tfidf)"
   ]
  },
  {
   "cell_type": "code",
   "execution_count": 49,
   "id": "upset-miniature",
   "metadata": {},
   "outputs": [],
   "source": [
    "def get_recommendation(top, book_list_df, scores):\n",
    "  recommendation = pd.DataFrame(columns = ['title', 'score'])\n",
    "  count = 0\n",
    "  for i in top:\n",
    "      recommendation.at[count, 'user_id'] = u\n",
    "      recommendation.at[count, 'id'] = book_list_df['id'][i]\n",
    "      recommendation.at[count, 'title'] = book_list_df['title'][i]\n",
    "      recommendation.at[count, 'author'] = book_list_df['author'][i]\n",
    "      recommendation.at[count, 'score'] =  scores[count]\n",
    "      count += 1\n",
    "  return recommendation"
   ]
  },
  {
   "cell_type": "code",
   "execution_count": 73,
   "id": "oriented-tiffany",
   "metadata": {},
   "outputs": [
    {
     "data": {
      "text/html": [
       "<div>\n",
       "<style scoped>\n",
       "    .dataframe tbody tr th:only-of-type {\n",
       "        vertical-align: middle;\n",
       "    }\n",
       "\n",
       "    .dataframe tbody tr th {\n",
       "        vertical-align: top;\n",
       "    }\n",
       "\n",
       "    .dataframe thead th {\n",
       "        text-align: right;\n",
       "    }\n",
       "</style>\n",
       "<table border=\"1\" class=\"dataframe\">\n",
       "  <thead>\n",
       "    <tr style=\"text-align: right;\">\n",
       "      <th></th>\n",
       "      <th>title</th>\n",
       "      <th>score</th>\n",
       "      <th>user_id</th>\n",
       "      <th>id</th>\n",
       "      <th>author</th>\n",
       "    </tr>\n",
       "  </thead>\n",
       "  <tbody>\n",
       "    <tr>\n",
       "      <th>0</th>\n",
       "      <td>School of the Supernatural: Live the Supernatu...</td>\n",
       "      <td>0.136929</td>\n",
       "      <td>1.0</td>\n",
       "      <td>1029.0</td>\n",
       "      <td>Ryan Wyatt</td>\n",
       "    </tr>\n",
       "    <tr>\n",
       "      <th>1</th>\n",
       "      <td>Unlocking Heaven: Keys to Living Naturally Sup...</td>\n",
       "      <td>0.110197</td>\n",
       "      <td>1.0</td>\n",
       "      <td>810.0</td>\n",
       "      <td>Kevin Dedmon</td>\n",
       "    </tr>\n",
       "    <tr>\n",
       "      <th>2</th>\n",
       "      <td>Splendour Falls [Kindle Edition]</td>\n",
       "      <td>0.104865</td>\n",
       "      <td>1.0</td>\n",
       "      <td>789.0</td>\n",
       "      <td>Susanna Kearsley</td>\n",
       "    </tr>\n",
       "    <tr>\n",
       "      <th>3</th>\n",
       "      <td>The Venus Deal: A California Century Mystery #...</td>\n",
       "      <td>0.104545</td>\n",
       "      <td>1.0</td>\n",
       "      <td>684.0</td>\n",
       "      <td>Ken Kuhlken</td>\n",
       "    </tr>\n",
       "    <tr>\n",
       "      <th>4</th>\n",
       "      <td>The Old Man's Back in Town (SHORT STORY from t...</td>\n",
       "      <td>0.103227</td>\n",
       "      <td>1.0</td>\n",
       "      <td>655.0</td>\n",
       "      <td>Ann Charles</td>\n",
       "    </tr>\n",
       "    <tr>\n",
       "      <th>5</th>\n",
       "      <td>How to Walk In the Supernatural Power of God [...</td>\n",
       "      <td>0.099292</td>\n",
       "      <td>1.0</td>\n",
       "      <td>882.0</td>\n",
       "      <td>Guillermo Maldonado</td>\n",
       "    </tr>\n",
       "    <tr>\n",
       "      <th>6</th>\n",
       "      <td>Drummer Boy: A Supernatural Thriller [Kindle E...</td>\n",
       "      <td>0.098258</td>\n",
       "      <td>1.0</td>\n",
       "      <td>205.0</td>\n",
       "      <td>Scott Nicholson</td>\n",
       "    </tr>\n",
       "    <tr>\n",
       "      <th>7</th>\n",
       "      <td>Ethereal Messenger: Three Novels [Kindle Edition]</td>\n",
       "      <td>0.092454</td>\n",
       "      <td>1.0</td>\n",
       "      <td>952.0</td>\n",
       "      <td>Scott Nicholson</td>\n",
       "    </tr>\n",
       "    <tr>\n",
       "      <th>8</th>\n",
       "      <td>The Ultimate Mystery Thriller Horror Box Set (...</td>\n",
       "      <td>0.091466</td>\n",
       "      <td>1.0</td>\n",
       "      <td>46.0</td>\n",
       "      <td>Cathy Perkins</td>\n",
       "    </tr>\n",
       "    <tr>\n",
       "      <th>9</th>\n",
       "      <td>Twisted Vengeance: A Supernatural Thriller [Ki...</td>\n",
       "      <td>0.089446</td>\n",
       "      <td>1.0</td>\n",
       "      <td>876.0</td>\n",
       "      <td>Jeff Bennington</td>\n",
       "    </tr>\n",
       "  </tbody>\n",
       "</table>\n",
       "</div>"
      ],
      "text/plain": [
       "                                               title     score  user_id  \\\n",
       "0  School of the Supernatural: Live the Supernatu...  0.136929      1.0   \n",
       "1  Unlocking Heaven: Keys to Living Naturally Sup...  0.110197      1.0   \n",
       "2                   Splendour Falls [Kindle Edition]  0.104865      1.0   \n",
       "3  The Venus Deal: A California Century Mystery #...  0.104545      1.0   \n",
       "4  The Old Man's Back in Town (SHORT STORY from t...  0.103227      1.0   \n",
       "5  How to Walk In the Supernatural Power of God [...  0.099292      1.0   \n",
       "6  Drummer Boy: A Supernatural Thriller [Kindle E...  0.098258      1.0   \n",
       "7  Ethereal Messenger: Three Novels [Kindle Edition]  0.092454      1.0   \n",
       "8  The Ultimate Mystery Thriller Horror Box Set (...  0.091466      1.0   \n",
       "9  Twisted Vengeance: A Supernatural Thriller [Ki...  0.089446      1.0   \n",
       "\n",
       "       id               author  \n",
       "0  1029.0           Ryan Wyatt  \n",
       "1   810.0         Kevin Dedmon  \n",
       "2   789.0     Susanna Kearsley  \n",
       "3   684.0          Ken Kuhlken  \n",
       "4   655.0          Ann Charles  \n",
       "5   882.0  Guillermo Maldonado  \n",
       "6   205.0      Scott Nicholson  \n",
       "7   952.0      Scott Nicholson  \n",
       "8    46.0        Cathy Perkins  \n",
       "9   876.0      Jeff Bennington  "
      ]
     },
     "execution_count": 73,
     "metadata": {},
     "output_type": "execute_result"
    }
   ],
   "source": [
    "top = sorted(range(len(output2)), key=lambda i: output2[i], reverse=True)[:10]\n",
    "list_scores = [output2[i][0][0] for i in top]\n",
    "get_recommendation(top,book_list_df, list_scores)"
   ]
  },
  {
   "cell_type": "markdown",
   "id": "traditional-signal",
   "metadata": {},
   "source": [
    "Using spaCy"
   ]
  },
  {
   "cell_type": "code",
   "execution_count": 74,
   "id": "dried-comedy",
   "metadata": {},
   "outputs": [
    {
     "name": "stdout",
     "output_type": "stream",
     "text": [
      "2063\n",
      "CPU times: user 44.2 s, sys: 4.58 s, total: 48.8 s\n",
      "Wall time: 49.1 s\n"
     ]
    }
   ],
   "source": [
    "%%time\n",
    "list_docs = []\n",
    "for i in range(len(book_list_df)):\n",
    "  doc = nlp(\"u'\" + book_list_df['text'][i] + \"'\")\n",
    "  list_docs.append((doc,i))\n",
    "print(len(list_docs))"
   ]
  },
  {
   "cell_type": "code",
   "execution_count": 75,
   "id": "super-carter",
   "metadata": {},
   "outputs": [],
   "source": [
    "def calculateSimWithSpaCy(nlp, df, user_text, n=6):\n",
    "    # Calculate similarity using spaCy\n",
    "    list_sim =[]\n",
    "    doc1 = nlp(\"u'\" + user_text + \"'\")\n",
    "    for i in df.index:\n",
    "      try:\n",
    "            doc2 = list_docs[i][0]\n",
    "            score = doc1.similarity(doc2)\n",
    "            list_sim.append((doc1, doc2, list_docs[i][1],score))\n",
    "      except:\n",
    "        continue\n",
    "\n",
    "    return  list_sim"
   ]
  },
  {
   "cell_type": "code",
   "execution_count": 76,
   "id": "characteristic-livestock",
   "metadata": {},
   "outputs": [
    {
     "data": {
      "text/plain": [
       "'animal gore terror'"
      ]
     },
     "execution_count": 76,
     "metadata": {},
     "output_type": "execute_result"
    }
   ],
   "source": [
    "user_q.text[0]"
   ]
  },
  {
   "cell_type": "code",
   "execution_count": 77,
   "id": "funny-request",
   "metadata": {},
   "outputs": [
    {
     "name": "stdout",
     "output_type": "stream",
     "text": [
      "CPU times: user 1.44 s, sys: 15.6 ms, total: 1.46 s\n",
      "Wall time: 1.46 s\n"
     ]
    }
   ],
   "source": [
    "%%time\n",
    " df3 = calculateSimWithSpaCy(nlp, book_list_df, user_q.text[0], n=15)"
   ]
  },
  {
   "cell_type": "code",
   "execution_count": 78,
   "id": "regional-binding",
   "metadata": {},
   "outputs": [],
   "source": [
    "df_recom_spacy = pd.DataFrame(df3).sort_values([3], ascending=False).head(10)"
   ]
  },
  {
   "cell_type": "code",
   "execution_count": 79,
   "id": "extreme-enzyme",
   "metadata": {},
   "outputs": [],
   "source": [
    "\n",
    "df_recom_spacy.reset_index(inplace=True)"
   ]
  },
  {
   "cell_type": "code",
   "execution_count": 80,
   "id": "worldwide-slovakia",
   "metadata": {},
   "outputs": [],
   "source": [
    "index_spacy = df_recom_spacy[2]\n",
    "list_scores = df_recom_spacy[3]"
   ]
  },
  {
   "cell_type": "code",
   "execution_count": 81,
   "id": "baking-grounds",
   "metadata": {},
   "outputs": [
    {
     "data": {
      "text/html": [
       "<div>\n",
       "<style scoped>\n",
       "    .dataframe tbody tr th:only-of-type {\n",
       "        vertical-align: middle;\n",
       "    }\n",
       "\n",
       "    .dataframe tbody tr th {\n",
       "        vertical-align: top;\n",
       "    }\n",
       "\n",
       "    .dataframe thead th {\n",
       "        text-align: right;\n",
       "    }\n",
       "</style>\n",
       "<table border=\"1\" class=\"dataframe\">\n",
       "  <thead>\n",
       "    <tr style=\"text-align: right;\">\n",
       "      <th></th>\n",
       "      <th>title</th>\n",
       "      <th>score</th>\n",
       "      <th>user_id</th>\n",
       "      <th>id</th>\n",
       "      <th>author</th>\n",
       "    </tr>\n",
       "  </thead>\n",
       "  <tbody>\n",
       "    <tr>\n",
       "      <th>0</th>\n",
       "      <td>Crime Scene: True Stories of Crime and Detecti...</td>\n",
       "      <td>0.643786</td>\n",
       "      <td>1.0</td>\n",
       "      <td>446.0</td>\n",
       "      <td>Gary C. King</td>\n",
       "    </tr>\n",
       "    <tr>\n",
       "      <th>1</th>\n",
       "      <td>HORRORIFIC 3 Stories Even Colder and Darker [K...</td>\n",
       "      <td>0.630761</td>\n",
       "      <td>1.0</td>\n",
       "      <td>695.0</td>\n",
       "      <td>Gene-Michael Higney</td>\n",
       "    </tr>\n",
       "    <tr>\n",
       "      <th>2</th>\n",
       "      <td>Jack in the Box (Shadow War Thriller) [Kindle ...</td>\n",
       "      <td>0.618854</td>\n",
       "      <td>1.0</td>\n",
       "      <td>1226.0</td>\n",
       "      <td>John Weisman</td>\n",
       "    </tr>\n",
       "    <tr>\n",
       "      <th>3</th>\n",
       "      <td>Mob Killer: [Kindle Edition]</td>\n",
       "      <td>0.615219</td>\n",
       "      <td>1.0</td>\n",
       "      <td>233.0</td>\n",
       "      <td>Anthony M. DeStefano</td>\n",
       "    </tr>\n",
       "    <tr>\n",
       "      <th>4</th>\n",
       "      <td>The Dead Room [Kindle Edition]</td>\n",
       "      <td>0.61414</td>\n",
       "      <td>1.0</td>\n",
       "      <td>1945.0</td>\n",
       "      <td>Robert Ellis</td>\n",
       "    </tr>\n",
       "    <tr>\n",
       "      <th>5</th>\n",
       "      <td>Deadeye Dick: A Novel [Kindle Edition]</td>\n",
       "      <td>0.611976</td>\n",
       "      <td>1.0</td>\n",
       "      <td>130.0</td>\n",
       "      <td>Kurt Vonnegut</td>\n",
       "    </tr>\n",
       "    <tr>\n",
       "      <th>6</th>\n",
       "      <td>Blood at the Root (Inspector Banks Novels) [Ki...</td>\n",
       "      <td>0.611266</td>\n",
       "      <td>1.0</td>\n",
       "      <td>1477.0</td>\n",
       "      <td>Peter Robinson</td>\n",
       "    </tr>\n",
       "    <tr>\n",
       "      <th>7</th>\n",
       "      <td>They're Coming For You 2: More Scary Stories t...</td>\n",
       "      <td>0.609444</td>\n",
       "      <td>1.0</td>\n",
       "      <td>638.0</td>\n",
       "      <td>O. Penn-Coughin</td>\n",
       "    </tr>\n",
       "    <tr>\n",
       "      <th>8</th>\n",
       "      <td>Die Trying: A Zombie Apocalypse [Kindle Edition]</td>\n",
       "      <td>0.608949</td>\n",
       "      <td>1.0</td>\n",
       "      <td>149.0</td>\n",
       "      <td>Nicholas Ryan</td>\n",
       "    </tr>\n",
       "    <tr>\n",
       "      <th>9</th>\n",
       "      <td>Sixty-Five Stirrup Iron Road [Kindle Edition]</td>\n",
       "      <td>0.608672</td>\n",
       "      <td>1.0</td>\n",
       "      <td>579.0</td>\n",
       "      <td>Brian Keene</td>\n",
       "    </tr>\n",
       "  </tbody>\n",
       "</table>\n",
       "</div>"
      ],
      "text/plain": [
       "                                               title     score  user_id  \\\n",
       "0  Crime Scene: True Stories of Crime and Detecti...  0.643786      1.0   \n",
       "1  HORRORIFIC 3 Stories Even Colder and Darker [K...  0.630761      1.0   \n",
       "2  Jack in the Box (Shadow War Thriller) [Kindle ...  0.618854      1.0   \n",
       "3                       Mob Killer: [Kindle Edition]  0.615219      1.0   \n",
       "4                     The Dead Room [Kindle Edition]   0.61414      1.0   \n",
       "5             Deadeye Dick: A Novel [Kindle Edition]  0.611976      1.0   \n",
       "6  Blood at the Root (Inspector Banks Novels) [Ki...  0.611266      1.0   \n",
       "7  They're Coming For You 2: More Scary Stories t...  0.609444      1.0   \n",
       "8   Die Trying: A Zombie Apocalypse [Kindle Edition]  0.608949      1.0   \n",
       "9      Sixty-Five Stirrup Iron Road [Kindle Edition]  0.608672      1.0   \n",
       "\n",
       "       id                author  \n",
       "0   446.0          Gary C. King  \n",
       "1   695.0   Gene-Michael Higney  \n",
       "2  1226.0          John Weisman  \n",
       "3   233.0  Anthony M. DeStefano  \n",
       "4  1945.0          Robert Ellis  \n",
       "5   130.0         Kurt Vonnegut  \n",
       "6  1477.0        Peter Robinson  \n",
       "7   638.0       O. Penn-Coughin  \n",
       "8   149.0         Nicholas Ryan  \n",
       "9   579.0           Brian Keene  "
      ]
     },
     "execution_count": 81,
     "metadata": {},
     "output_type": "execute_result"
    }
   ],
   "source": [
    "get_recommendation(index_spacy, book_list_df, list_scores)"
   ]
  },
  {
   "cell_type": "code",
   "execution_count": null,
   "id": "altered-package",
   "metadata": {},
   "outputs": [],
   "source": []
  }
 ],
 "metadata": {
  "kernelspec": {
   "display_name": "Python 3",
   "language": "python",
   "name": "python3"
  },
  "language_info": {
   "codemirror_mode": {
    "name": "ipython",
    "version": 3
   },
   "file_extension": ".py",
   "mimetype": "text/x-python",
   "name": "python",
   "nbconvert_exporter": "python",
   "pygments_lexer": "ipython3",
   "version": "3.8.2"
  }
 },
 "nbformat": 4,
 "nbformat_minor": 5
}
